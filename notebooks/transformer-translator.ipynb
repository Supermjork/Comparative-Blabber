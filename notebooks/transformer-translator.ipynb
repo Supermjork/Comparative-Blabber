{
 "cells": [
  {
   "cell_type": "code",
   "execution_count": 1,
   "id": "6165245c",
   "metadata": {
    "_cell_guid": "b1076dfc-b9ad-4769-8c92-a6c4dae69d19",
    "_uuid": "8f2839f25d086af736a60e9eeb907d3b93b6e0e5",
    "execution": {
     "iopub.execute_input": "2024-12-18T10:02:16.008891Z",
     "iopub.status.busy": "2024-12-18T10:02:16.008479Z",
     "iopub.status.idle": "2024-12-18T10:02:20.619347Z",
     "shell.execute_reply": "2024-12-18T10:02:20.618383Z"
    },
    "papermill": {
     "duration": 4.6179,
     "end_time": "2024-12-18T10:02:20.621776",
     "exception": false,
     "start_time": "2024-12-18T10:02:16.003876",
     "status": "completed"
    },
    "tags": []
   },
   "outputs": [],
   "source": [
    "import torch\n",
    "import torch.nn as nn\n",
    "import torch.optim as optim\n",
    "import torch.nn.utils.rnn as rnn_utils\n",
    "import polars as pl\n",
    "import matplotlib.pyplot as plt\n",
    "\n",
    "from torch.utils.data import Dataset, DataLoader\n",
    "from sklearn.model_selection import train_test_split\n",
    "from collections import Counter\n",
    "from typing import Dict, List, Tuple"
   ]
  },
  {
   "cell_type": "code",
   "execution_count": 2,
   "id": "648ffac5",
   "metadata": {
    "execution": {
     "iopub.execute_input": "2024-12-18T10:02:20.634153Z",
     "iopub.status.busy": "2024-12-18T10:02:20.633570Z",
     "iopub.status.idle": "2024-12-18T10:02:20.638934Z",
     "shell.execute_reply": "2024-12-18T10:02:20.637956Z"
    },
    "papermill": {
     "duration": 0.01449,
     "end_time": "2024-12-18T10:02:20.641322",
     "exception": false,
     "start_time": "2024-12-18T10:02:20.626832",
     "status": "completed"
    },
    "tags": []
   },
   "outputs": [],
   "source": [
    "# Constants\n",
    "BATCH_SIZE = 32\n",
    "EMB_DIM = 128\n",
    "HID_DIM = 258\n",
    "N_LAYERS = 2\n",
    "N_HEADS = 8\n",
    "FF_DIM = 512\n",
    "DROPOUT = 0.1\n",
    "LEARNING_RATE = 0.001\n",
    "EPOCHS = 10\n",
    "FRAC = 0.5"
   ]
  },
  {
   "cell_type": "code",
   "execution_count": 3,
   "id": "36504e21",
   "metadata": {
    "execution": {
     "iopub.execute_input": "2024-12-18T10:02:20.651314Z",
     "iopub.status.busy": "2024-12-18T10:02:20.651064Z",
     "iopub.status.idle": "2024-12-18T10:02:20.710810Z",
     "shell.execute_reply": "2024-12-18T10:02:20.710002Z"
    },
    "papermill": {
     "duration": 0.068201,
     "end_time": "2024-12-18T10:02:20.712844",
     "exception": false,
     "start_time": "2024-12-18T10:02:20.644643",
     "status": "completed"
    },
    "tags": []
   },
   "outputs": [
    {
     "name": "stdout",
     "output_type": "stream",
     "text": [
      "cuda\n"
     ]
    }
   ],
   "source": [
    "device = torch.device(\"cuda\" if torch.cuda.is_available() else \"cpu\")\n",
    "print(device)"
   ]
  },
  {
   "cell_type": "code",
   "execution_count": 4,
   "id": "2f737530",
   "metadata": {
    "execution": {
     "iopub.execute_input": "2024-12-18T10:02:20.719779Z",
     "iopub.status.busy": "2024-12-18T10:02:20.719484Z",
     "iopub.status.idle": "2024-12-18T10:02:21.256101Z",
     "shell.execute_reply": "2024-12-18T10:02:21.255243Z"
    },
    "papermill": {
     "duration": 0.542193,
     "end_time": "2024-12-18T10:02:21.258068",
     "exception": false,
     "start_time": "2024-12-18T10:02:20.715875",
     "status": "completed"
    },
    "tags": []
   },
   "outputs": [
    {
     "name": "stdout",
     "output_type": "stream",
     "text": [
      "Data loaded successfully\n"
     ]
    },
    {
     "data": {
      "text/html": [
       "<div><style>\n",
       ".dataframe > thead > tr,\n",
       ".dataframe > tbody > tr {\n",
       "  text-align: right;\n",
       "  white-space: pre-wrap;\n",
       "}\n",
       "</style>\n",
       "<small>shape: (5, 2)</small><table border=\"1\" class=\"dataframe\"><thead><tr><th>it</th><th>en</th></tr><tr><td>list[str]</td><td>list[str]</td></tr></thead><tbody><tr><td>[&quot;grazie&quot;, &quot;amico&quot;]</td><td>[&quot;thank&quot;, &quot;buddy&quot;]</td></tr><tr><td>[&quot;di il&quot;]</td><td>[&quot;say&quot;]</td></tr><tr><td>[&quot;trifosfare&quot;, &quot;sodio&quot;, … &quot;sodio&quot;]</td><td>[&quot;sodium&quot;, &quot;triphosphate&quot;, … &quot;tripolyphosphate&quot;]</td></tr><tr><td>[&quot;invero&quot;, &quot;avidare&quot;, … &quot;ricchezzo&quot;]</td><td>[&quot;surely&quot;, &quot;ardent&quot;, … &quot;wealth&quot;]</td></tr><tr><td>[&quot;allegare&quot;]</td><td>[&quot;annex&quot;]</td></tr></tbody></table></div>"
      ],
      "text/plain": [
       "shape: (5, 2)\n",
       "┌─────────────────────────────────┬─────────────────────────────────┐\n",
       "│ it                              ┆ en                              │\n",
       "│ ---                             ┆ ---                             │\n",
       "│ list[str]                       ┆ list[str]                       │\n",
       "╞═════════════════════════════════╪═════════════════════════════════╡\n",
       "│ [\"grazie\", \"amico\"]             ┆ [\"thank\", \"buddy\"]              │\n",
       "│ [\"di il\"]                       ┆ [\"say\"]                         │\n",
       "│ [\"trifosfare\", \"sodio\", … \"sod… ┆ [\"sodium\", \"triphosphate\", … \"… │\n",
       "│ [\"invero\", \"avidare\", … \"ricch… ┆ [\"surely\", \"ardent\", … \"wealth… │\n",
       "│ [\"allegare\"]                    ┆ [\"annex\"]                       │\n",
       "└─────────────────────────────────┴─────────────────────────────────┘"
      ]
     },
     "execution_count": 4,
     "metadata": {},
     "output_type": "execute_result"
    }
   ],
   "source": [
    "# Load parquet file\n",
    "local_path = \"../data/output/processed.parquet\"\n",
    "colab_path = \"../content/processed.parquet\"\n",
    "kaggle_path= \"/kaggle/input/it-en-translation/processed.parquet\"\n",
    "loaded_data = pl.read_parquet(kaggle_path)\n",
    "print(\"Data loaded successfully\")\n",
    "loaded_data.head()"
   ]
  },
  {
   "cell_type": "code",
   "execution_count": 5,
   "id": "ee8d6ac7",
   "metadata": {
    "execution": {
     "iopub.execute_input": "2024-12-18T10:02:21.267885Z",
     "iopub.status.busy": "2024-12-18T10:02:21.267596Z",
     "iopub.status.idle": "2024-12-18T10:02:21.768106Z",
     "shell.execute_reply": "2024-12-18T10:02:21.767243Z"
    },
    "papermill": {
     "duration": 0.506802,
     "end_time": "2024-12-18T10:02:21.769784",
     "exception": false,
     "start_time": "2024-12-18T10:02:21.262982",
     "status": "completed"
    },
    "tags": []
   },
   "outputs": [
    {
     "data": {
      "text/html": [
       "<div><style>\n",
       ".dataframe > thead > tr,\n",
       ".dataframe > tbody > tr {\n",
       "  text-align: right;\n",
       "  white-space: pre-wrap;\n",
       "}\n",
       "</style>\n",
       "<small>shape: (9, 3)</small><table border=\"1\" class=\"dataframe\"><thead><tr><th>statistic</th><th>it</th><th>en</th></tr><tr><td>str</td><td>f64</td><td>f64</td></tr></thead><tbody><tr><td>&quot;count&quot;</td><td>480021.0</td><td>480021.0</td></tr><tr><td>&quot;null_count&quot;</td><td>0.0</td><td>0.0</td></tr><tr><td>&quot;mean&quot;</td><td>null</td><td>null</td></tr><tr><td>&quot;std&quot;</td><td>null</td><td>null</td></tr><tr><td>&quot;min&quot;</td><td>null</td><td>null</td></tr><tr><td>&quot;25%&quot;</td><td>null</td><td>null</td></tr><tr><td>&quot;50%&quot;</td><td>null</td><td>null</td></tr><tr><td>&quot;75%&quot;</td><td>null</td><td>null</td></tr><tr><td>&quot;max&quot;</td><td>null</td><td>null</td></tr></tbody></table></div>"
      ],
      "text/plain": [
       "shape: (9, 3)\n",
       "┌────────────┬──────────┬──────────┐\n",
       "│ statistic  ┆ it       ┆ en       │\n",
       "│ ---        ┆ ---      ┆ ---      │\n",
       "│ str        ┆ f64      ┆ f64      │\n",
       "╞════════════╪══════════╪══════════╡\n",
       "│ count      ┆ 480021.0 ┆ 480021.0 │\n",
       "│ null_count ┆ 0.0      ┆ 0.0      │\n",
       "│ mean       ┆ null     ┆ null     │\n",
       "│ std        ┆ null     ┆ null     │\n",
       "│ min        ┆ null     ┆ null     │\n",
       "│ 25%        ┆ null     ┆ null     │\n",
       "│ 50%        ┆ null     ┆ null     │\n",
       "│ 75%        ┆ null     ┆ null     │\n",
       "│ max        ┆ null     ┆ null     │\n",
       "└────────────┴──────────┴──────────┘"
      ]
     },
     "execution_count": 5,
     "metadata": {},
     "output_type": "execute_result"
    }
   ],
   "source": [
    "input_data = loaded_data.sample(fraction = FRAC)\n",
    "\n",
    "input_data.describe()"
   ]
  },
  {
   "cell_type": "code",
   "execution_count": 6,
   "id": "596e38ea",
   "metadata": {
    "execution": {
     "iopub.execute_input": "2024-12-18T10:02:21.778019Z",
     "iopub.status.busy": "2024-12-18T10:02:21.777750Z",
     "iopub.status.idle": "2024-12-18T10:02:21.784064Z",
     "shell.execute_reply": "2024-12-18T10:02:21.783236Z"
    },
    "papermill": {
     "duration": 0.012405,
     "end_time": "2024-12-18T10:02:21.785730",
     "exception": false,
     "start_time": "2024-12-18T10:02:21.773325",
     "status": "completed"
    },
    "tags": []
   },
   "outputs": [],
   "source": [
    "from collections import defaultdict\n",
    "\n",
    "def build_vocab(tokens):\n",
    "    vocab = defaultdict(lambda: len(vocab))  # Assign unique indices\n",
    "    vocab[\"<pad>\"]  # Reserve 0 for padding\n",
    "    for token_list in tokens:\n",
    "        for token in token_list:\n",
    "            _ = vocab[token]\n",
    "    return dict(vocab)\n",
    "\n",
    "def preprocess_data(df):\n",
    "    it_vocab = build_vocab(df[\"it\"])\n",
    "    en_vocab = build_vocab(df[\"en\"])\n",
    "    \n",
    "    it_indices = [\n",
    "        torch.tensor([it_vocab[token] for token in tokens], dtype=torch.long)\n",
    "        for tokens in df[\"it\"]\n",
    "    ]\n",
    "    en_indices = [\n",
    "        torch.tensor([en_vocab[token] for token in tokens], dtype=torch.long)\n",
    "        for tokens in df[\"en\"]\n",
    "    ]\n",
    "    return list(zip(en_indices, it_indices)), len(it_vocab), len(en_vocab)"
   ]
  },
  {
   "cell_type": "code",
   "execution_count": 7,
   "id": "41ef2a1f",
   "metadata": {
    "execution": {
     "iopub.execute_input": "2024-12-18T10:02:21.793268Z",
     "iopub.status.busy": "2024-12-18T10:02:21.793012Z",
     "iopub.status.idle": "2024-12-18T10:02:41.603575Z",
     "shell.execute_reply": "2024-12-18T10:02:41.602376Z"
    },
    "papermill": {
     "duration": 19.816695,
     "end_time": "2024-12-18T10:02:41.605734",
     "exception": false,
     "start_time": "2024-12-18T10:02:21.789039",
     "status": "completed"
    },
    "tags": []
   },
   "outputs": [],
   "source": [
    "data_pairs, IT_VOCAB_SIZE, EN_VOCAB_SIZE = preprocess_data(input_data)"
   ]
  },
  {
   "cell_type": "code",
   "execution_count": 8,
   "id": "f48f45a7",
   "metadata": {
    "execution": {
     "iopub.execute_input": "2024-12-18T10:02:41.615075Z",
     "iopub.status.busy": "2024-12-18T10:02:41.614787Z",
     "iopub.status.idle": "2024-12-18T10:02:41.619580Z",
     "shell.execute_reply": "2024-12-18T10:02:41.618419Z"
    },
    "papermill": {
     "duration": 0.011842,
     "end_time": "2024-12-18T10:02:41.621272",
     "exception": false,
     "start_time": "2024-12-18T10:02:41.609430",
     "status": "completed"
    },
    "tags": []
   },
   "outputs": [
    {
     "name": "stdout",
     "output_type": "stream",
     "text": [
      "Italian Vocabulary Size: 133927\n",
      "English Vocabulary Size: 87719\n"
     ]
    }
   ],
   "source": [
    "print(f\"Italian Vocabulary Size: {IT_VOCAB_SIZE}\")\n",
    "print(f\"English Vocabulary Size: {EN_VOCAB_SIZE}\")"
   ]
  },
  {
   "cell_type": "code",
   "execution_count": 9,
   "id": "3244d5ba",
   "metadata": {
    "execution": {
     "iopub.execute_input": "2024-12-18T10:02:41.629795Z",
     "iopub.status.busy": "2024-12-18T10:02:41.629481Z",
     "iopub.status.idle": "2024-12-18T10:02:41.634568Z",
     "shell.execute_reply": "2024-12-18T10:02:41.633688Z"
    },
    "papermill": {
     "duration": 0.011442,
     "end_time": "2024-12-18T10:02:41.636538",
     "exception": false,
     "start_time": "2024-12-18T10:02:41.625096",
     "status": "completed"
    },
    "tags": []
   },
   "outputs": [],
   "source": [
    "class TranslationDataset(Dataset):\n",
    "    def __init__(self, pairs):\n",
    "        self.pairs = pairs\n",
    "\n",
    "    def __len__(self):\n",
    "        return len(self.pairs)\n",
    "\n",
    "    def __getitem__(self, idx):\n",
    "        return self.pairs[idx]"
   ]
  },
  {
   "cell_type": "code",
   "execution_count": 10,
   "id": "80e43d00",
   "metadata": {
    "execution": {
     "iopub.execute_input": "2024-12-18T10:02:41.645756Z",
     "iopub.status.busy": "2024-12-18T10:02:41.645442Z",
     "iopub.status.idle": "2024-12-18T10:02:41.650227Z",
     "shell.execute_reply": "2024-12-18T10:02:41.649416Z"
    },
    "papermill": {
     "duration": 0.011308,
     "end_time": "2024-12-18T10:02:41.652034",
     "exception": false,
     "start_time": "2024-12-18T10:02:41.640726",
     "status": "completed"
    },
    "tags": []
   },
   "outputs": [],
   "source": [
    "def collate_fn(batch):\n",
    "    src = [pair[0] for pair in batch]\n",
    "    trg = [pair[1] for pair in batch]\n",
    "    src_padded = nn.utils.rnn.pad_sequence(src, batch_first=True, padding_value=0)\n",
    "    trg_padded = nn.utils.rnn.pad_sequence(trg, batch_first=True, padding_value=0)\n",
    "    return src_padded, trg_padded"
   ]
  },
  {
   "cell_type": "code",
   "execution_count": 11,
   "id": "c7a648ba",
   "metadata": {
    "execution": {
     "iopub.execute_input": "2024-12-18T10:02:41.661158Z",
     "iopub.status.busy": "2024-12-18T10:02:41.660901Z",
     "iopub.status.idle": "2024-12-18T10:02:41.665159Z",
     "shell.execute_reply": "2024-12-18T10:02:41.664375Z"
    },
    "papermill": {
     "duration": 0.010857,
     "end_time": "2024-12-18T10:02:41.667016",
     "exception": false,
     "start_time": "2024-12-18T10:02:41.656159",
     "status": "completed"
    },
    "tags": []
   },
   "outputs": [],
   "source": [
    "train_loader = DataLoader(\n",
    "    TranslationDataset(data_pairs),\n",
    "    batch_size=BATCH_SIZE,\n",
    "    shuffle=True,\n",
    "    collate_fn=collate_fn\n",
    ")"
   ]
  },
  {
   "cell_type": "code",
   "execution_count": 12,
   "id": "8a19ba92",
   "metadata": {
    "execution": {
     "iopub.execute_input": "2024-12-18T10:02:41.676572Z",
     "iopub.status.busy": "2024-12-18T10:02:41.676248Z",
     "iopub.status.idle": "2024-12-18T10:02:41.686343Z",
     "shell.execute_reply": "2024-12-18T10:02:41.685246Z"
    },
    "papermill": {
     "duration": 0.017582,
     "end_time": "2024-12-18T10:02:41.688648",
     "exception": false,
     "start_time": "2024-12-18T10:02:41.671066",
     "status": "completed"
    },
    "tags": []
   },
   "outputs": [],
   "source": [
    "class Transformer(nn.Module):\n",
    "    def __init__(self, src_vocab_size, trg_vocab_size, emb_dim, n_heads, ff_dim, n_layers, dropout):\n",
    "        super().__init__()\n",
    "        # Ensure src_vocab_size matches the vocabulary size from preprocessing\n",
    "        self.src_embedding = nn.Embedding(src_vocab_size, emb_dim)\n",
    "        # Ensure trg_vocab_size matches the vocabulary size from preprocessing\n",
    "        self.trg_embedding = nn.Embedding(trg_vocab_size, emb_dim)\n",
    "        # Check that the positional encoding length covers all sequence lengths\n",
    "        self.positional_encoding = self._get_positional_encoding(emb_dim)\n",
    "\n",
    "        self.transformer = nn.Transformer(\n",
    "            d_model=emb_dim,\n",
    "            nhead=n_heads,\n",
    "            num_encoder_layers=n_layers,\n",
    "            num_decoder_layers=n_layers,\n",
    "            dim_feedforward=ff_dim,\n",
    "            dropout=dropout,\n",
    "            batch_first=True\n",
    "        )\n",
    "        self.fc_out = nn.Linear(emb_dim, trg_vocab_size)\n",
    "\n",
    "    def forward(self, src, trg):\n",
    "        src_seq_len = src.size(1)  # Sequence length of source\n",
    "        src = self.src_embedding(src) + self.positional_encoding[:, :src_seq_len, :].to(src.device)\n",
    "        trg_seq_len = trg.size(1)  # Sequence length of target\n",
    "        trg = self.trg_embedding(trg) + self.positional_encoding[:, :trg_seq_len, :].to(trg.device)\n",
    "\n",
    "        src_mask = self._generate_square_subsequent_mask(src_seq_len).to(src.device)\n",
    "        trg_mask = self._generate_square_subsequent_mask(trg_seq_len).to(trg.device)\n",
    "        memory_mask = None\n",
    "\n",
    "        # Ensure src, trg, and masks are aligned\n",
    "        output = self.transformer(\n",
    "            src, trg, src_mask=src_mask, tgt_mask=trg_mask, memory_mask=memory_mask\n",
    "        )\n",
    "        output = self.fc_out(output)\n",
    "\n",
    "        return output\n",
    "\n",
    "    def _generate_square_subsequent_mask(self, sz):\n",
    "        return torch.triu(torch.full((sz, sz), float('-inf')), diagonal=1)\n",
    "\n",
    "    def _get_positional_encoding(self, emb_dim, max_len=5000):\n",
    "        pe = torch.zeros(1, max_len, emb_dim)\n",
    "        position = torch.arange(0, max_len, dtype=torch.float).unsqueeze(1)\n",
    "        div_term = torch.exp(torch.arange(0, emb_dim, 2).float() * -(torch.log(torch.tensor(10000.0)) / emb_dim))\n",
    "        pe[0, :, 0::2] = torch.sin(position * div_term)\n",
    "        pe[0, :, 1::2] = torch.cos(position * div_term)\n",
    "        return pe"
   ]
  },
  {
   "cell_type": "code",
   "execution_count": 13,
   "id": "0c51d973",
   "metadata": {
    "execution": {
     "iopub.execute_input": "2024-12-18T10:02:41.697999Z",
     "iopub.status.busy": "2024-12-18T10:02:41.697749Z",
     "iopub.status.idle": "2024-12-18T10:02:42.501382Z",
     "shell.execute_reply": "2024-12-18T10:02:42.500698Z"
    },
    "papermill": {
     "duration": 0.810508,
     "end_time": "2024-12-18T10:02:42.503398",
     "exception": false,
     "start_time": "2024-12-18T10:02:41.692890",
     "status": "completed"
    },
    "tags": []
   },
   "outputs": [],
   "source": [
    "model = Transformer(EN_VOCAB_SIZE, IT_VOCAB_SIZE, EMB_DIM, N_HEADS, FF_DIM, N_LAYERS, DROPOUT).to(device)"
   ]
  },
  {
   "cell_type": "code",
   "execution_count": 14,
   "id": "1d332820",
   "metadata": {
    "execution": {
     "iopub.execute_input": "2024-12-18T10:02:42.516012Z",
     "iopub.status.busy": "2024-12-18T10:02:42.515358Z",
     "iopub.status.idle": "2024-12-18T10:02:44.072398Z",
     "shell.execute_reply": "2024-12-18T10:02:44.071550Z"
    },
    "papermill": {
     "duration": 1.564879,
     "end_time": "2024-12-18T10:02:44.074490",
     "exception": false,
     "start_time": "2024-12-18T10:02:42.509611",
     "status": "completed"
    },
    "tags": []
   },
   "outputs": [],
   "source": [
    "criterion = nn.CrossEntropyLoss(ignore_index=0)\n",
    "optimizer = optim.Adam(model.parameters(), lr=LEARNING_RATE)"
   ]
  },
  {
   "cell_type": "code",
   "execution_count": 15,
   "id": "ba9ae9c7",
   "metadata": {
    "execution": {
     "iopub.execute_input": "2024-12-18T10:02:44.083770Z",
     "iopub.status.busy": "2024-12-18T10:02:44.083377Z",
     "iopub.status.idle": "2024-12-18T10:02:44.089021Z",
     "shell.execute_reply": "2024-12-18T10:02:44.088188Z"
    },
    "papermill": {
     "duration": 0.011964,
     "end_time": "2024-12-18T10:02:44.090717",
     "exception": false,
     "start_time": "2024-12-18T10:02:44.078753",
     "status": "completed"
    },
    "tags": []
   },
   "outputs": [],
   "source": [
    "def train(model, iterator, optimizer, criterion):\n",
    "    model.train()\n",
    "    epoch_loss = 0\n",
    "\n",
    "    for src, trg in iterator:\n",
    "        src = src.to(device, non_blocking=True)\n",
    "        trg = trg.to(device, non_blocking=True)\n",
    "        trg_input = trg[:, :-1]\n",
    "        trg_output = trg[:, 1:]\n",
    "\n",
    "        optimizer.zero_grad()\n",
    "\n",
    "        output = model(src, trg_input)\n",
    "        output_dim = output.shape[-1]\n",
    "\n",
    "        output = output.reshape(-1, output_dim)\n",
    "        trg_output = trg_output.reshape(-1)\n",
    "\n",
    "        loss = criterion(output, trg_output)\n",
    "        loss.backward()\n",
    "        optimizer.step()\n",
    "\n",
    "        epoch_loss += loss.item()\n",
    "\n",
    "    return epoch_loss / len(iterator)"
   ]
  },
  {
   "cell_type": "code",
   "execution_count": 16,
   "id": "7f99265a",
   "metadata": {
    "execution": {
     "iopub.execute_input": "2024-12-18T10:02:44.099054Z",
     "iopub.status.busy": "2024-12-18T10:02:44.098807Z",
     "iopub.status.idle": "2024-12-18T10:02:44.104308Z",
     "shell.execute_reply": "2024-12-18T10:02:44.103479Z"
    },
    "papermill": {
     "duration": 0.011588,
     "end_time": "2024-12-18T10:02:44.105905",
     "exception": false,
     "start_time": "2024-12-18T10:02:44.094317",
     "status": "completed"
    },
    "tags": []
   },
   "outputs": [],
   "source": [
    "def evaluate(model, iterator, criterion):\n",
    "    model.eval()\n",
    "    epoch_loss = 0\n",
    "\n",
    "    with torch.no_grad():\n",
    "        for src, trg in iterator:\n",
    "            src = src.to(device, non_blocking=True)\n",
    "            trg = trg.to(device, non_blocking=True)\n",
    "            trg_input = trg[:, :-1]\n",
    "            trg_output = trg[:, 1:]\n",
    "\n",
    "            output = model(src, trg_input)\n",
    "            output_dim = output.shape[-1]\n",
    "\n",
    "            output = output.reshape(-1, output_dim)\n",
    "            trg_output = trg_output.reshape(-1)\n",
    "\n",
    "            loss = criterion(output, trg_output)\n",
    "            epoch_loss += loss.item()\n",
    "\n",
    "    return epoch_loss / len(iterator)"
   ]
  },
  {
   "cell_type": "code",
   "execution_count": 17,
   "id": "aaa27ddb",
   "metadata": {
    "execution": {
     "iopub.execute_input": "2024-12-18T10:02:44.114165Z",
     "iopub.status.busy": "2024-12-18T10:02:44.113926Z",
     "iopub.status.idle": "2024-12-18T11:53:18.615136Z",
     "shell.execute_reply": "2024-12-18T11:53:18.614165Z"
    },
    "papermill": {
     "duration": 6634.50985,
     "end_time": "2024-12-18T11:53:18.619460",
     "exception": false,
     "start_time": "2024-12-18T10:02:44.109610",
     "status": "completed"
    },
    "tags": []
   },
   "outputs": [
    {
     "name": "stdout",
     "output_type": "stream",
     "text": [
      "Epoch 1/10 - Train Loss: 7.9368 | Eval Loss: 7.2821\n",
      "Epoch 2/10 - Train Loss: 7.2229 | Eval Loss: 6.7190\n",
      "Epoch 3/10 - Train Loss: 6.8127 | Eval Loss: 6.2839\n",
      "Epoch 4/10 - Train Loss: 6.5263 | Eval Loss: 5.9653\n",
      "Epoch 5/10 - Train Loss: 6.3163 | Eval Loss: 5.7348\n",
      "Epoch 6/10 - Train Loss: 6.1437 | Eval Loss: 5.5074\n",
      "Epoch 7/10 - Train Loss: 5.9978 | Eval Loss: 5.3026\n",
      "Epoch 8/10 - Train Loss: 5.8758 | Eval Loss: 5.1395\n",
      "Epoch 9/10 - Train Loss: 5.7665 | Eval Loss: 4.9943\n",
      "Epoch 10/10 - Train Loss: 5.6741 | Eval Loss: 4.8410\n"
     ]
    }
   ],
   "source": [
    "train_losses, eval_losses = [], []\n",
    "\n",
    "for epoch in range(EPOCHS):\n",
    "    train_loss = train(model, train_loader, optimizer, criterion)\n",
    "    eval_loss = evaluate(model, train_loader, criterion)\n",
    "\n",
    "    train_losses.append(train_loss)\n",
    "    eval_losses.append(eval_loss)\n",
    "\n",
    "    print(f\"Epoch {epoch + 1}/{EPOCHS} - Train Loss: {train_loss:.4f} | Eval Loss: {eval_loss:.4f}\")"
   ]
  },
  {
   "cell_type": "code",
   "execution_count": 18,
   "id": "f419ebdd",
   "metadata": {
    "execution": {
     "iopub.execute_input": "2024-12-18T11:53:18.629055Z",
     "iopub.status.busy": "2024-12-18T11:53:18.628761Z",
     "iopub.status.idle": "2024-12-18T11:53:18.901838Z",
     "shell.execute_reply": "2024-12-18T11:53:18.900981Z"
    },
    "papermill": {
     "duration": 0.280275,
     "end_time": "2024-12-18T11:53:18.903961",
     "exception": false,
     "start_time": "2024-12-18T11:53:18.623686",
     "status": "completed"
    },
    "tags": []
   },
   "outputs": [
    {
     "data": {
      "image/png": "[encoded data removed]",
      "text/plain": [
       "<Figure size 640x480 with 1 Axes>"
      ]
     },
     "metadata": {},
     "output_type": "display_data"
    }
   ],
   "source": [
    "plt.plot(range(1, EPOCHS + 1), train_losses, label=\"Train Loss\")\n",
    "plt.plot(range(1, EPOCHS + 1), eval_losses, label=\"Eval Loss\")\n",
    "plt.xlabel(\"Epoch\")\n",
    "plt.ylabel(\"Loss\")\n",
    "plt.legend()\n",
    "plt.title(\"Training and Evaluation Loss\")\n",
    "plt.show()"
   ]
  },
  {
   "cell_type": "code",
   "execution_count": 19,
   "id": "4143fe5f",
   "metadata": {
    "execution": {
     "iopub.execute_input": "2024-12-18T11:53:18.914854Z",
     "iopub.status.busy": "2024-12-18T11:53:18.914573Z",
     "iopub.status.idle": "2024-12-18T11:53:19.305741Z",
     "shell.execute_reply": "2024-12-18T11:53:19.304923Z"
    },
    "papermill": {
     "duration": 0.398994,
     "end_time": "2024-12-18T11:53:19.307969",
     "exception": false,
     "start_time": "2024-12-18T11:53:18.908975",
     "status": "completed"
    },
    "tags": []
   },
   "outputs": [],
   "source": [
    "torch.save(model.state_dict(), \"/kaggle/working/transformer_translation_model.pth\")"
   ]
  }
 ],
 "metadata": {
  "kaggle": {
   "accelerator": "gpu",
   "dataSources": [
    {
     "datasetId": 6321785,
     "sourceId": 10225541,
     "sourceType": "datasetVersion"
    }
   ],
   "dockerImageVersionId": 30805,
   "isGpuEnabled": true,
   "isInternetEnabled": true,
   "language": "python",
   "sourceType": "notebook"
  },
  "kernelspec": {
   "display_name": "Python 3",
   "language": "python",
   "name": "python3"
  },
  "language_info": {
   "codemirror_mode": {
    "name": "ipython",
    "version": 3
   },
   "file_extension": ".py",
   "mimetype": "text/x-python",
   "name": "python",
   "nbconvert_exporter": "python",
   "pygments_lexer": "ipython3",
   "version": "3.10.14"
  },
  "papermill": {
   "default_parameters": {},
   "duration": 6669.133089,
   "end_time": "2024-12-18T11:53:22.665538",
   "environment_variables": {},
   "exception": null,
   "input_path": "__notebook__.ipynb",
   "output_path": "__notebook__.ipynb",
   "parameters": {},
   "start_time": "2024-12-18T10:02:13.532449",
   "version": "2.6.0"
  }
 },
 "nbformat": 4,
 "nbformat_minor": 5
}
