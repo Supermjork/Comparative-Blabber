{
 "cells": [
  {
   "cell_type": "code",
   "execution_count": 1,
   "id": "80b69cbb",
   "metadata": {
    "execution": {
     "iopub.execute_input": "2024-12-17T13:30:09.961502Z",
     "iopub.status.busy": "2024-12-17T13:30:09.961229Z",
     "iopub.status.idle": "2024-12-17T13:30:14.501589Z",
     "shell.execute_reply": "2024-12-17T13:30:14.500861Z"
    },
    "papermill": {
     "duration": 4.546999,
     "end_time": "2024-12-17T13:30:14.503701",
     "exception": false,
     "start_time": "2024-12-17T13:30:09.956702",
     "status": "completed"
    },
    "tags": []
   },
   "outputs": [],
   "source": [
    "import torch\n",
    "import torch.nn as nn\n",
    "import torch.optim as optim\n",
    "import torch.nn.utils.rnn as rnn_utils\n",
    "import polars as pl\n",
    "import matplotlib.pyplot as plt\n",
    "\n",
    "from torch.utils.data import Dataset, DataLoader\n",
    "from sklearn.model_selection import train_test_split\n",
    "from collections import Counter\n",
    "from typing import Dict, List, Tuple"
   ]
  },
  {
   "cell_type": "code",
   "execution_count": 2,
   "id": "d17f996e",
   "metadata": {
    "execution": {
     "iopub.execute_input": "2024-12-17T13:30:14.511624Z",
     "iopub.status.busy": "2024-12-17T13:30:14.510928Z",
     "iopub.status.idle": "2024-12-17T13:30:14.515237Z",
     "shell.execute_reply": "2024-12-17T13:30:14.514449Z"
    },
    "papermill": {
     "duration": 0.009644,
     "end_time": "2024-12-17T13:30:14.516760",
     "exception": false,
     "start_time": "2024-12-17T13:30:14.507116",
     "status": "completed"
    },
    "tags": []
   },
   "outputs": [],
   "source": [
    "# Constants\n",
    "BATCH_SIZE = 64\n",
    "EMB_DIM = 128\n",
    "HID_DIM = 258\n",
    "N_LAYERS = 2\n",
    "DROPOUT = 0.5\n",
    "LEARNING_RATE = 0.001\n",
    "EPOCHS = 10\n",
    "FRAC = 0.2"
   ]
  },
  {
   "cell_type": "code",
   "execution_count": 3,
   "id": "f9166f0b",
   "metadata": {
    "execution": {
     "iopub.execute_input": "2024-12-17T13:30:14.523425Z",
     "iopub.status.busy": "2024-12-17T13:30:14.523192Z",
     "iopub.status.idle": "2024-12-17T13:30:14.585100Z",
     "shell.execute_reply": "2024-12-17T13:30:14.584091Z"
    },
    "papermill": {
     "duration": 0.066973,
     "end_time": "2024-12-17T13:30:14.586653",
     "exception": false,
     "start_time": "2024-12-17T13:30:14.519680",
     "status": "completed"
    },
    "tags": []
   },
   "outputs": [
    {
     "name": "stdout",
     "output_type": "stream",
     "text": [
      "cuda\n"
     ]
    }
   ],
   "source": [
    "device = torch.device(\"cuda\" if torch.cuda.is_available() else \"cpu\")\n",
    "print(device)"
   ]
  },
  {
   "cell_type": "code",
   "execution_count": 4,
   "id": "2d0fb7ce",
   "metadata": {
    "execution": {
     "iopub.execute_input": "2024-12-17T13:30:14.593825Z",
     "iopub.status.busy": "2024-12-17T13:30:14.593544Z",
     "iopub.status.idle": "2024-12-17T13:30:15.134752Z",
     "shell.execute_reply": "2024-12-17T13:30:15.133761Z"
    },
    "papermill": {
     "duration": 0.546901,
     "end_time": "2024-12-17T13:30:15.136699",
     "exception": false,
     "start_time": "2024-12-17T13:30:14.589798",
     "status": "completed"
    },
    "tags": []
   },
   "outputs": [
    {
     "name": "stdout",
     "output_type": "stream",
     "text": [
      "Data loaded successfully\n"
     ]
    },
    {
     "data": {
      "text/html": [
       "<div><style>\n",
       ".dataframe > thead > tr,\n",
       ".dataframe > tbody > tr {\n",
       "  text-align: right;\n",
       "  white-space: pre-wrap;\n",
       "}\n",
       "</style>\n",
       "<small>shape: (5, 2)</small><table border=\"1\" class=\"dataframe\"><thead><tr><th>it</th><th>en</th></tr><tr><td>list[str]</td><td>list[str]</td></tr></thead><tbody><tr><td>[&quot;grazie&quot;, &quot;amico&quot;]</td><td>[&quot;thank&quot;, &quot;buddy&quot;]</td></tr><tr><td>[&quot;di il&quot;]</td><td>[&quot;say&quot;]</td></tr><tr><td>[&quot;trifosfare&quot;, &quot;sodio&quot;, … &quot;sodio&quot;]</td><td>[&quot;sodium&quot;, &quot;triphosphate&quot;, … &quot;tripolyphosphate&quot;]</td></tr><tr><td>[&quot;invero&quot;, &quot;avidare&quot;, … &quot;ricchezzo&quot;]</td><td>[&quot;surely&quot;, &quot;ardent&quot;, … &quot;wealth&quot;]</td></tr><tr><td>[&quot;allegare&quot;]</td><td>[&quot;annex&quot;]</td></tr></tbody></table></div>"
      ],
      "text/plain": [
       "shape: (5, 2)\n",
       "┌─────────────────────────────────┬─────────────────────────────────┐\n",
       "│ it                              ┆ en                              │\n",
       "│ ---                             ┆ ---                             │\n",
       "│ list[str]                       ┆ list[str]                       │\n",
       "╞═════════════════════════════════╪═════════════════════════════════╡\n",
       "│ [\"grazie\", \"amico\"]             ┆ [\"thank\", \"buddy\"]              │\n",
       "│ [\"di il\"]                       ┆ [\"say\"]                         │\n",
       "│ [\"trifosfare\", \"sodio\", … \"sod… ┆ [\"sodium\", \"triphosphate\", … \"… │\n",
       "│ [\"invero\", \"avidare\", … \"ricch… ┆ [\"surely\", \"ardent\", … \"wealth… │\n",
       "│ [\"allegare\"]                    ┆ [\"annex\"]                       │\n",
       "└─────────────────────────────────┴─────────────────────────────────┘"
      ]
     },
     "execution_count": 4,
     "metadata": {},
     "output_type": "execute_result"
    }
   ],
   "source": [
    "# Load parquet file\n",
    "local_path = \"../data/output/processed.parquet\"\n",
    "colab_path = \"../content/processed.parquet\"\n",
    "kaggle_path= \"/kaggle/input/it-en-translation/processed.parquet\"\n",
    "loaded_data = pl.read_parquet(kaggle_path)\n",
    "print(\"Data loaded successfully\")\n",
    "loaded_data.head()"
   ]
  },
  {
   "cell_type": "code",
   "execution_count": 5,
   "id": "e17979ce",
   "metadata": {
    "execution": {
     "iopub.execute_input": "2024-12-17T13:30:15.146862Z",
     "iopub.status.busy": "2024-12-17T13:30:15.146553Z",
     "iopub.status.idle": "2024-12-17T13:30:15.493775Z",
     "shell.execute_reply": "2024-12-17T13:30:15.492786Z"
    },
    "papermill": {
     "duration": 0.354046,
     "end_time": "2024-12-17T13:30:15.495932",
     "exception": false,
     "start_time": "2024-12-17T13:30:15.141886",
     "status": "completed"
    },
    "tags": []
   },
   "outputs": [],
   "source": [
    "input_data = loaded_data.sample(fraction = FRAC)"
   ]
  },
  {
   "cell_type": "code",
   "execution_count": 6,
   "id": "9498039c",
   "metadata": {
    "execution": {
     "iopub.execute_input": "2024-12-17T13:30:15.504545Z",
     "iopub.status.busy": "2024-12-17T13:30:15.504240Z",
     "iopub.status.idle": "2024-12-17T13:30:15.535552Z",
     "shell.execute_reply": "2024-12-17T13:30:15.534788Z"
    },
    "papermill": {
     "duration": 0.037327,
     "end_time": "2024-12-17T13:30:15.537206",
     "exception": false,
     "start_time": "2024-12-17T13:30:15.499879",
     "status": "completed"
    },
    "tags": []
   },
   "outputs": [
    {
     "data": {
      "text/html": [
       "<div><style>\n",
       ".dataframe > thead > tr,\n",
       ".dataframe > tbody > tr {\n",
       "  text-align: right;\n",
       "  white-space: pre-wrap;\n",
       "}\n",
       "</style>\n",
       "<small>shape: (9, 3)</small><table border=\"1\" class=\"dataframe\"><thead><tr><th>statistic</th><th>it</th><th>en</th></tr><tr><td>str</td><td>f64</td><td>f64</td></tr></thead><tbody><tr><td>&quot;count&quot;</td><td>192008.0</td><td>192008.0</td></tr><tr><td>&quot;null_count&quot;</td><td>0.0</td><td>0.0</td></tr><tr><td>&quot;mean&quot;</td><td>null</td><td>null</td></tr><tr><td>&quot;std&quot;</td><td>null</td><td>null</td></tr><tr><td>&quot;min&quot;</td><td>null</td><td>null</td></tr><tr><td>&quot;25%&quot;</td><td>null</td><td>null</td></tr><tr><td>&quot;50%&quot;</td><td>null</td><td>null</td></tr><tr><td>&quot;75%&quot;</td><td>null</td><td>null</td></tr><tr><td>&quot;max&quot;</td><td>null</td><td>null</td></tr></tbody></table></div>"
      ],
      "text/plain": [
       "shape: (9, 3)\n",
       "┌────────────┬──────────┬──────────┐\n",
       "│ statistic  ┆ it       ┆ en       │\n",
       "│ ---        ┆ ---      ┆ ---      │\n",
       "│ str        ┆ f64      ┆ f64      │\n",
       "╞════════════╪══════════╪══════════╡\n",
       "│ count      ┆ 192008.0 ┆ 192008.0 │\n",
       "│ null_count ┆ 0.0      ┆ 0.0      │\n",
       "│ mean       ┆ null     ┆ null     │\n",
       "│ std        ┆ null     ┆ null     │\n",
       "│ min        ┆ null     ┆ null     │\n",
       "│ 25%        ┆ null     ┆ null     │\n",
       "│ 50%        ┆ null     ┆ null     │\n",
       "│ 75%        ┆ null     ┆ null     │\n",
       "│ max        ┆ null     ┆ null     │\n",
       "└────────────┴──────────┴──────────┘"
      ]
     },
     "execution_count": 6,
     "metadata": {},
     "output_type": "execute_result"
    }
   ],
   "source": [
    "input_data.describe()"
   ]
  },
  {
   "cell_type": "code",
   "execution_count": 7,
   "id": "29f0eb18",
   "metadata": {
    "execution": {
     "iopub.execute_input": "2024-12-17T13:30:15.545483Z",
     "iopub.status.busy": "2024-12-17T13:30:15.545033Z",
     "iopub.status.idle": "2024-12-17T13:30:15.551003Z",
     "shell.execute_reply": "2024-12-17T13:30:15.550193Z"
    },
    "papermill": {
     "duration": 0.011687,
     "end_time": "2024-12-17T13:30:15.552563",
     "exception": false,
     "start_time": "2024-12-17T13:30:15.540876",
     "status": "completed"
    },
    "tags": []
   },
   "outputs": [],
   "source": [
    "from collections import defaultdict\n",
    "\n",
    "def build_vocab(tokens):\n",
    "    vocab = defaultdict(lambda: len(vocab))  # Assign unique indices\n",
    "    vocab[\"<pad>\"]  # Reserve 0 for padding\n",
    "    for token_list in tokens:\n",
    "        for token in token_list:\n",
    "            _ = vocab[token]\n",
    "    return dict(vocab)\n",
    "\n",
    "def preprocess_data(df):\n",
    "    it_vocab = build_vocab(df[\"it\"])\n",
    "    en_vocab = build_vocab(df[\"en\"])\n",
    "    \n",
    "    it_indices = [\n",
    "        torch.tensor([it_vocab[token] for token in tokens], dtype=torch.long)\n",
    "        for tokens in df[\"it\"]\n",
    "    ]\n",
    "    en_indices = [\n",
    "        torch.tensor([en_vocab[token] for token in tokens], dtype=torch.long)\n",
    "        for tokens in df[\"en\"]\n",
    "    ]\n",
    "    return list(zip(en_indices, it_indices)), len(it_vocab), len(en_vocab)"
   ]
  },
  {
   "cell_type": "code",
   "execution_count": 8,
   "id": "4b2cdba4",
   "metadata": {
    "execution": {
     "iopub.execute_input": "2024-12-17T13:30:15.560622Z",
     "iopub.status.busy": "2024-12-17T13:30:15.560129Z",
     "iopub.status.idle": "2024-12-17T13:30:23.598936Z",
     "shell.execute_reply": "2024-12-17T13:30:23.598177Z"
    },
    "papermill": {
     "duration": 8.04496,
     "end_time": "2024-12-17T13:30:23.600973",
     "exception": false,
     "start_time": "2024-12-17T13:30:15.556013",
     "status": "completed"
    },
    "tags": []
   },
   "outputs": [],
   "source": [
    "data_pairs, IT_VOCAB_SIZE, EN_VOCAB_SIZE = preprocess_data(input_data)"
   ]
  },
  {
   "cell_type": "code",
   "execution_count": 9,
   "id": "fc9b5278",
   "metadata": {
    "execution": {
     "iopub.execute_input": "2024-12-17T13:30:23.609960Z",
     "iopub.status.busy": "2024-12-17T13:30:23.609389Z",
     "iopub.status.idle": "2024-12-17T13:30:23.614029Z",
     "shell.execute_reply": "2024-12-17T13:30:23.613134Z"
    },
    "papermill": {
     "duration": 0.010581,
     "end_time": "2024-12-17T13:30:23.615601",
     "exception": false,
     "start_time": "2024-12-17T13:30:23.605020",
     "status": "completed"
    },
    "tags": []
   },
   "outputs": [
    {
     "name": "stdout",
     "output_type": "stream",
     "text": [
      "Italian Vocabulary Size: 78942\n",
      "English Vocabulary Size: 52274\n"
     ]
    }
   ],
   "source": [
    "print(f\"Italian Vocabulary Size: {IT_VOCAB_SIZE}\")\n",
    "print(f\"English Vocabulary Size: {EN_VOCAB_SIZE}\")"
   ]
  },
  {
   "cell_type": "code",
   "execution_count": 10,
   "id": "8ef60053",
   "metadata": {
    "execution": {
     "iopub.execute_input": "2024-12-17T13:30:23.623681Z",
     "iopub.status.busy": "2024-12-17T13:30:23.623448Z",
     "iopub.status.idle": "2024-12-17T13:30:23.627575Z",
     "shell.execute_reply": "2024-12-17T13:30:23.626887Z"
    },
    "papermill": {
     "duration": 0.009907,
     "end_time": "2024-12-17T13:30:23.629077",
     "exception": false,
     "start_time": "2024-12-17T13:30:23.619170",
     "status": "completed"
    },
    "tags": []
   },
   "outputs": [],
   "source": [
    "class TranslationDataset(Dataset):\n",
    "    def __init__(self, pairs):\n",
    "        self.pairs = pairs\n",
    "\n",
    "    def __len__(self):\n",
    "        return len(self.pairs)\n",
    "\n",
    "    def __getitem__(self, idx):\n",
    "        return self.pairs[idx]"
   ]
  },
  {
   "cell_type": "code",
   "execution_count": 11,
   "id": "57cd8385",
   "metadata": {
    "execution": {
     "iopub.execute_input": "2024-12-17T13:30:23.637050Z",
     "iopub.status.busy": "2024-12-17T13:30:23.636832Z",
     "iopub.status.idle": "2024-12-17T13:30:23.641542Z",
     "shell.execute_reply": "2024-12-17T13:30:23.640758Z"
    },
    "papermill": {
     "duration": 0.010451,
     "end_time": "2024-12-17T13:30:23.643054",
     "exception": false,
     "start_time": "2024-12-17T13:30:23.632603",
     "status": "completed"
    },
    "tags": []
   },
   "outputs": [],
   "source": [
    "def collate_custom(batch):\n",
    "    src = [pair[0] for pair in batch]\n",
    "    trg = [pair[1] for pair in batch]\n",
    "    src_padded = nn.utils.rnn.pad_sequence(src, batch_first=True, padding_value=0)\n",
    "    trg_padded = nn.utils.rnn.pad_sequence(trg, batch_first=True, padding_value=0)\n",
    "    return src_padded, trg_padded"
   ]
  },
  {
   "cell_type": "code",
   "execution_count": 12,
   "id": "cc8db7ce",
   "metadata": {
    "execution": {
     "iopub.execute_input": "2024-12-17T13:30:23.651104Z",
     "iopub.status.busy": "2024-12-17T13:30:23.650866Z",
     "iopub.status.idle": "2024-12-17T13:30:23.654577Z",
     "shell.execute_reply": "2024-12-17T13:30:23.653944Z"
    },
    "papermill": {
     "duration": 0.009386,
     "end_time": "2024-12-17T13:30:23.656055",
     "exception": false,
     "start_time": "2024-12-17T13:30:23.646669",
     "status": "completed"
    },
    "tags": []
   },
   "outputs": [],
   "source": [
    "train_loader = DataLoader(\n",
    "    TranslationDataset(data_pairs),\n",
    "    batch_size=BATCH_SIZE,\n",
    "    shuffle=True,\n",
    "    collate_fn=collate_custom\n",
    ")"
   ]
  },
  {
   "cell_type": "code",
   "execution_count": 13,
   "id": "ec88798c",
   "metadata": {
    "execution": {
     "iopub.execute_input": "2024-12-17T13:30:23.664095Z",
     "iopub.status.busy": "2024-12-17T13:30:23.663861Z",
     "iopub.status.idle": "2024-12-17T13:30:23.668505Z",
     "shell.execute_reply": "2024-12-17T13:30:23.667790Z"
    },
    "papermill": {
     "duration": 0.010329,
     "end_time": "2024-12-17T13:30:23.669969",
     "exception": false,
     "start_time": "2024-12-17T13:30:23.659640",
     "status": "completed"
    },
    "tags": []
   },
   "outputs": [],
   "source": [
    "class Encoder(nn.Module):\n",
    "    def __init__(self, input_dim, emb_dim, hid_dim, n_layers, dropout):\n",
    "        super().__init__()\n",
    "        self.embedding = nn.Embedding(input_dim, emb_dim)\n",
    "        self.rnn = nn.LSTM(emb_dim, hid_dim, n_layers, dropout=dropout, batch_first=True)\n",
    "        self.dropout = nn.Dropout(dropout)\n",
    "\n",
    "    def forward(self, src):\n",
    "        embedded = self.dropout(self.embedding(src))\n",
    "        outputs, (hidden, cell) = self.rnn(embedded)\n",
    "        return hidden, cell"
   ]
  },
  {
   "cell_type": "code",
   "execution_count": 14,
   "id": "03064ba5",
   "metadata": {
    "execution": {
     "iopub.execute_input": "2024-12-17T13:30:23.678495Z",
     "iopub.status.busy": "2024-12-17T13:30:23.678229Z",
     "iopub.status.idle": "2024-12-17T13:30:23.683409Z",
     "shell.execute_reply": "2024-12-17T13:30:23.682687Z"
    },
    "papermill": {
     "duration": 0.011142,
     "end_time": "2024-12-17T13:30:23.684850",
     "exception": false,
     "start_time": "2024-12-17T13:30:23.673708",
     "status": "completed"
    },
    "tags": []
   },
   "outputs": [],
   "source": [
    "class Decoder(nn.Module):\n",
    "    def __init__(self, output_dim, emb_dim, hid_dim, n_layers, dropout):\n",
    "        super().__init__()\n",
    "        self.embedding = nn.Embedding(output_dim, emb_dim)\n",
    "        self.rnn = nn.LSTM(emb_dim, hid_dim, n_layers, dropout=dropout, batch_first=True)\n",
    "        self.fc_out = nn.Linear(hid_dim, output_dim)\n",
    "        self.dropout = nn.Dropout(dropout)\n",
    "\n",
    "    def forward(self, trg, hidden, cell):\n",
    "        trg = trg.unsqueeze(1)\n",
    "        embedded = self.dropout(self.embedding(trg))\n",
    "        output, (hidden, cell) = self.rnn(embedded, (hidden, cell))\n",
    "        prediction = self.fc_out(output.squeeze(1))\n",
    "        return prediction, hidden, cell"
   ]
  },
  {
   "cell_type": "code",
   "execution_count": 15,
   "id": "0c2fb8c8",
   "metadata": {
    "execution": {
     "iopub.execute_input": "2024-12-17T13:30:23.693206Z",
     "iopub.status.busy": "2024-12-17T13:30:23.692970Z",
     "iopub.status.idle": "2024-12-17T13:30:23.698856Z",
     "shell.execute_reply": "2024-12-17T13:30:23.698020Z"
    },
    "papermill": {
     "duration": 0.011819,
     "end_time": "2024-12-17T13:30:23.700341",
     "exception": false,
     "start_time": "2024-12-17T13:30:23.688522",
     "status": "completed"
    },
    "tags": []
   },
   "outputs": [],
   "source": [
    "class Seq2Seq(nn.Module):\n",
    "    def __init__(self, encoder, decoder, device):\n",
    "        super().__init__()\n",
    "        self.encoder = encoder\n",
    "        self.decoder = decoder\n",
    "        self.device = device\n",
    "\n",
    "    def forward(self, src, trg, teacher_forcing_ratio=0.5):\n",
    "        batch_size = src.size(0)\n",
    "        trg_len = trg.size(1)\n",
    "        trg_vocab_size = self.decoder.fc_out.out_features\n",
    "\n",
    "        outputs = torch.zeros(batch_size, trg_len, trg_vocab_size).to(self.device)\n",
    "\n",
    "        hidden, cell = self.encoder(src)\n",
    "\n",
    "        trg_input = trg[:, 0]\n",
    "        for t in range(1, trg_len):\n",
    "            output, hidden, cell = self.decoder(trg_input, hidden, cell)\n",
    "            outputs[:, t, :] = output\n",
    "            top1 = output.argmax(1)\n",
    "            trg_input = trg[:, t] if torch.rand(1).item() < teacher_forcing_ratio else top1\n",
    "\n",
    "        return outputs"
   ]
  },
  {
   "cell_type": "code",
   "execution_count": 16,
   "id": "d7875fe0",
   "metadata": {
    "execution": {
     "iopub.execute_input": "2024-12-17T13:30:23.708626Z",
     "iopub.status.busy": "2024-12-17T13:30:23.708376Z",
     "iopub.status.idle": "2024-12-17T13:30:24.389499Z",
     "shell.execute_reply": "2024-12-17T13:30:24.388541Z"
    },
    "papermill": {
     "duration": 0.687619,
     "end_time": "2024-12-17T13:30:24.391655",
     "exception": false,
     "start_time": "2024-12-17T13:30:23.704036",
     "status": "completed"
    },
    "tags": []
   },
   "outputs": [],
   "source": [
    "encoder = Encoder(EN_VOCAB_SIZE, EMB_DIM, HID_DIM, N_LAYERS, DROPOUT)\n",
    "decoder = Decoder(IT_VOCAB_SIZE, EMB_DIM, HID_DIM, N_LAYERS, DROPOUT)\n",
    "model = Seq2Seq(encoder, decoder, device).to(device)"
   ]
  },
  {
   "cell_type": "code",
   "execution_count": 17,
   "id": "ea596f29",
   "metadata": {
    "execution": {
     "iopub.execute_input": "2024-12-17T13:30:24.401211Z",
     "iopub.status.busy": "2024-12-17T13:30:24.400451Z",
     "iopub.status.idle": "2024-12-17T13:30:25.697636Z",
     "shell.execute_reply": "2024-12-17T13:30:25.696962Z"
    },
    "papermill": {
     "duration": 1.303831,
     "end_time": "2024-12-17T13:30:25.699631",
     "exception": false,
     "start_time": "2024-12-17T13:30:24.395800",
     "status": "completed"
    },
    "tags": []
   },
   "outputs": [],
   "source": [
    "criterion = nn.CrossEntropyLoss(ignore_index=0)\n",
    "optimizer = optim.Adam(model.parameters(), lr=LEARNING_RATE)"
   ]
  },
  {
   "cell_type": "code",
   "execution_count": 18,
   "id": "18291b39",
   "metadata": {
    "execution": {
     "iopub.execute_input": "2024-12-17T13:30:25.708862Z",
     "iopub.status.busy": "2024-12-17T13:30:25.708485Z",
     "iopub.status.idle": "2024-12-17T13:30:25.713525Z",
     "shell.execute_reply": "2024-12-17T13:30:25.712787Z"
    },
    "papermill": {
     "duration": 0.011218,
     "end_time": "2024-12-17T13:30:25.715054",
     "exception": false,
     "start_time": "2024-12-17T13:30:25.703836",
     "status": "completed"
    },
    "tags": []
   },
   "outputs": [],
   "source": [
    "def train(model, iterator, optimizer, criterion):\n",
    "    model.train()\n",
    "    epoch_loss = 0\n",
    "\n",
    "    for src, trg in iterator:\n",
    "        src, trg = src.to(device), trg.to(device)\n",
    "        optimizer.zero_grad()\n",
    "\n",
    "        output = model(src, trg)\n",
    "        output_dim = output.shape[-1]\n",
    "\n",
    "        output = output[:, 1:].reshape(-1, output_dim)\n",
    "        trg = trg[:, 1:].reshape(-1)\n",
    "\n",
    "        loss = criterion(output, trg)\n",
    "        loss.backward()\n",
    "        optimizer.step()\n",
    "\n",
    "        epoch_loss += loss.item()\n",
    "\n",
    "    return epoch_loss / len(iterator)"
   ]
  },
  {
   "cell_type": "code",
   "execution_count": 19,
   "id": "e707734f",
   "metadata": {
    "execution": {
     "iopub.execute_input": "2024-12-17T13:30:25.723605Z",
     "iopub.status.busy": "2024-12-17T13:30:25.723358Z",
     "iopub.status.idle": "2024-12-17T13:30:25.728128Z",
     "shell.execute_reply": "2024-12-17T13:30:25.727459Z"
    },
    "papermill": {
     "duration": 0.010669,
     "end_time": "2024-12-17T13:30:25.729614",
     "exception": false,
     "start_time": "2024-12-17T13:30:25.718945",
     "status": "completed"
    },
    "tags": []
   },
   "outputs": [],
   "source": [
    "def evaluate(model, iterator, criterion):\n",
    "    model.eval()\n",
    "    epoch_loss = 0\n",
    "\n",
    "    with torch.no_grad():\n",
    "        for src, trg in iterator:\n",
    "            src, trg = src.to(device), trg.to(device)\n",
    "\n",
    "            output = model(src, trg, 0)  # Turn off teacher forcing\n",
    "            output_dim = output.shape[-1]\n",
    "\n",
    "            output = output[:, 1:].reshape(-1, output_dim)\n",
    "            trg = trg[:, 1:].reshape(-1)\n",
    "\n",
    "            loss = criterion(output, trg)\n",
    "            epoch_loss += loss.item()\n",
    "\n",
    "    return epoch_loss / len(iterator)\n"
   ]
  },
  {
   "cell_type": "code",
   "execution_count": 20,
   "id": "1f170475",
   "metadata": {
    "execution": {
     "iopub.execute_input": "2024-12-17T13:30:25.738172Z",
     "iopub.status.busy": "2024-12-17T13:30:25.737931Z",
     "iopub.status.idle": "2024-12-17T19:55:03.263804Z",
     "shell.execute_reply": "2024-12-17T19:55:03.262732Z"
    },
    "papermill": {
     "duration": 23077.536389,
     "end_time": "2024-12-17T19:55:03.269877",
     "exception": false,
     "start_time": "2024-12-17T13:30:25.733488",
     "status": "completed"
    },
    "tags": []
   },
   "outputs": [
    {
     "name": "stdout",
     "output_type": "stream",
     "text": [
      "Epoch 1/10 - Train Loss: 8.3430 | Eval Loss: 7.9538\n",
      "Epoch 2/10 - Train Loss: 7.8284 | Eval Loss: 7.5686\n",
      "Epoch 3/10 - Train Loss: 7.5080 | Eval Loss: 7.2324\n",
      "Epoch 4/10 - Train Loss: 7.2288 | Eval Loss: 6.9331\n",
      "Epoch 5/10 - Train Loss: 6.9788 | Eval Loss: 6.6559\n",
      "Epoch 6/10 - Train Loss: 6.7525 | Eval Loss: 6.3998\n",
      "Epoch 7/10 - Train Loss: 6.5370 | Eval Loss: 6.1577\n",
      "Epoch 8/10 - Train Loss: 6.3368 | Eval Loss: 5.9128\n",
      "Epoch 9/10 - Train Loss: 6.1561 | Eval Loss: 5.7134\n",
      "Epoch 10/10 - Train Loss: 5.9860 | Eval Loss: 5.5152\n"
     ]
    }
   ],
   "source": [
    "train_losses, eval_losses = [], []\n",
    "\n",
    "for epoch in range(EPOCHS):\n",
    "    train_loss = train(model, train_loader, optimizer, criterion)\n",
    "    eval_loss = evaluate(model, train_loader, criterion)\n",
    "\n",
    "    train_losses.append(train_loss)\n",
    "    eval_losses.append(eval_loss)\n",
    "\n",
    "    print(f\"Epoch {epoch + 1}/{EPOCHS} - Train Loss: {train_loss:.4f} | Eval Loss: {eval_loss:.4f}\")\n"
   ]
  },
  {
   "cell_type": "code",
   "execution_count": 21,
   "id": "65a125f8",
   "metadata": {
    "execution": {
     "iopub.execute_input": "2024-12-17T19:55:03.280262Z",
     "iopub.status.busy": "2024-12-17T19:55:03.279605Z",
     "iopub.status.idle": "2024-12-17T19:55:03.544493Z",
     "shell.execute_reply": "2024-12-17T19:55:03.543714Z"
    },
    "papermill": {
     "duration": 0.271802,
     "end_time": "2024-12-17T19:55:03.546076",
     "exception": false,
     "start_time": "2024-12-17T19:55:03.274274",
     "status": "completed"
    },
    "tags": []
   },
   "outputs": [
    {
     "data": {
      "image/png": "[encoded data removed]",
      "text/plain": [
       "<Figure size 640x480 with 1 Axes>"
      ]
     },
     "metadata": {},
     "output_type": "display_data"
    }
   ],
   "source": [
    "plt.plot(range(1, EPOCHS + 1), train_losses, label=\"Train Loss\")\n",
    "plt.plot(range(1, EPOCHS + 1), eval_losses, label=\"Eval Loss\")\n",
    "plt.xlabel(\"Epoch\")\n",
    "plt.ylabel(\"Loss\")\n",
    "plt.legend()\n",
    "plt.title(\"Training and Evaluation Loss\")\n",
    "plt.show()\n"
   ]
  }
 ],
 "metadata": {
  "kaggle": {
   "accelerator": "gpu",
   "dataSources": [
    {
     "datasetId": 6321785,
     "sourceId": 10225541,
     "sourceType": "datasetVersion"
    }
   ],
   "dockerImageVersionId": 30805,
   "isGpuEnabled": true,
   "isInternetEnabled": true,
   "language": "python",
   "sourceType": "notebook"
  },
  "kernelspec": {
   "display_name": "Python 3",
   "language": "python",
   "name": "python3"
  },
  "language_info": {
   "codemirror_mode": {
    "name": "ipython",
    "version": 3
   },
   "file_extension": ".py",
   "mimetype": "text/x-python",
   "name": "python",
   "nbconvert_exporter": "python",
   "pygments_lexer": "ipython3",
   "version": "3.10.14"
  },
  "papermill": {
   "default_parameters": {},
   "duration": 23098.555505,
   "end_time": "2024-12-17T19:55:06.188309",
   "environment_variables": {},
   "exception": null,
   "input_path": "__notebook__.ipynb",
   "output_path": "__notebook__.ipynb",
   "parameters": {},
   "start_time": "2024-12-17T13:30:07.632804",
   "version": "2.6.0"
  }
 },
 "nbformat": 4,
 "nbformat_minor": 5
}
