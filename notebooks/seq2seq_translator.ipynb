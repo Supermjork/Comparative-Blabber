{
 "cells": [
  {
   "cell_type": "code",
   "execution_count": 1,
   "id": "0b76f3c5",
   "metadata": {
    "execution": {
     "iopub.execute_input": "2024-12-18T09:22:24.538955Z",
     "iopub.status.busy": "2024-12-18T09:22:24.538652Z",
     "iopub.status.idle": "2024-12-18T09:22:28.935338Z",
     "shell.execute_reply": "2024-12-18T09:22:28.934470Z"
    },
    "papermill": {
     "duration": 4.40347,
     "end_time": "2024-12-18T09:22:28.937409",
     "exception": false,
     "start_time": "2024-12-18T09:22:24.533939",
     "status": "completed"
    },
    "tags": []
   },
   "outputs": [],
   "source": [
    "import torch\n",
    "import torch.nn as nn\n",
    "import torch.optim as optim\n",
    "import torch.nn.utils.rnn as rnn_utils\n",
    "import polars as pl\n",
    "import matplotlib.pyplot as plt\n",
    "\n",
    "from torch.utils.data import Dataset, DataLoader\n",
    "from sklearn.model_selection import train_test_split\n",
    "from collections import Counter\n",
    "from typing import Dict, List, Tuple"
   ]
  },
  {
   "cell_type": "code",
   "execution_count": 2,
   "id": "7b694353",
   "metadata": {
    "execution": {
     "iopub.execute_input": "2024-12-18T09:22:28.945792Z",
     "iopub.status.busy": "2024-12-18T09:22:28.945290Z",
     "iopub.status.idle": "2024-12-18T09:22:28.950534Z",
     "shell.execute_reply": "2024-12-18T09:22:28.949693Z"
    },
    "papermill": {
     "duration": 0.011175,
     "end_time": "2024-12-18T09:22:28.952219",
     "exception": false,
     "start_time": "2024-12-18T09:22:28.941044",
     "status": "completed"
    },
    "tags": []
   },
   "outputs": [],
   "source": [
    "# Constants\n",
    "BATCH_SIZE = 64\n",
    "EMB_DIM = 128\n",
    "HID_DIM = 258\n",
    "N_LAYERS = 2\n",
    "DROPOUT = 0.5\n",
    "LEARNING_RATE = 0.001\n",
    "EPOCHS = 10\n",
    "FRAC = 0.2"
   ]
  },
  {
   "cell_type": "code",
   "execution_count": 3,
   "id": "e34196ff",
   "metadata": {
    "execution": {
     "iopub.execute_input": "2024-12-18T09:22:28.960092Z",
     "iopub.status.busy": "2024-12-18T09:22:28.959466Z",
     "iopub.status.idle": "2024-12-18T09:22:29.029786Z",
     "shell.execute_reply": "2024-12-18T09:22:29.028810Z"
    },
    "papermill": {
     "duration": 0.077035,
     "end_time": "2024-12-18T09:22:29.032575",
     "exception": false,
     "start_time": "2024-12-18T09:22:28.955540",
     "status": "completed"
    },
    "tags": []
   },
   "outputs": [
    {
     "name": "stdout",
     "output_type": "stream",
     "text": [
      "cuda\n"
     ]
    }
   ],
   "source": [
    "device = torch.device(\"cuda\" if torch.cuda.is_available() else \"cpu\")\n",
    "print(device)"
   ]
  },
  {
   "cell_type": "code",
   "execution_count": 4,
   "id": "a49c42fc",
   "metadata": {
    "execution": {
     "iopub.execute_input": "2024-12-18T09:22:29.048559Z",
     "iopub.status.busy": "2024-12-18T09:22:29.048209Z",
     "iopub.status.idle": "2024-12-18T09:22:29.712960Z",
     "shell.execute_reply": "2024-12-18T09:22:29.711545Z"
    },
    "papermill": {
     "duration": 0.676582,
     "end_time": "2024-12-18T09:22:29.717500",
     "exception": false,
     "start_time": "2024-12-18T09:22:29.040918",
     "status": "completed"
    },
    "tags": []
   },
   "outputs": [
    {
     "name": "stdout",
     "output_type": "stream",
     "text": [
      "Data loaded successfully\n"
     ]
    },
    {
     "data": {
      "text/html": [
       "<div><style>\n",
       ".dataframe > thead > tr,\n",
       ".dataframe > tbody > tr {\n",
       "  text-align: right;\n",
       "  white-space: pre-wrap;\n",
       "}\n",
       "</style>\n",
       "<small>shape: (5, 2)</small><table border=\"1\" class=\"dataframe\"><thead><tr><th>it</th><th>en</th></tr><tr><td>list[str]</td><td>list[str]</td></tr></thead><tbody><tr><td>[&quot;grazie&quot;, &quot;amico&quot;]</td><td>[&quot;thank&quot;, &quot;buddy&quot;]</td></tr><tr><td>[&quot;di il&quot;]</td><td>[&quot;say&quot;]</td></tr><tr><td>[&quot;trifosfare&quot;, &quot;sodio&quot;, … &quot;sodio&quot;]</td><td>[&quot;sodium&quot;, &quot;triphosphate&quot;, … &quot;tripolyphosphate&quot;]</td></tr><tr><td>[&quot;invero&quot;, &quot;avidare&quot;, … &quot;ricchezzo&quot;]</td><td>[&quot;surely&quot;, &quot;ardent&quot;, … &quot;wealth&quot;]</td></tr><tr><td>[&quot;allegare&quot;]</td><td>[&quot;annex&quot;]</td></tr></tbody></table></div>"
      ],
      "text/plain": [
       "shape: (5, 2)\n",
       "┌─────────────────────────────────┬─────────────────────────────────┐\n",
       "│ it                              ┆ en                              │\n",
       "│ ---                             ┆ ---                             │\n",
       "│ list[str]                       ┆ list[str]                       │\n",
       "╞═════════════════════════════════╪═════════════════════════════════╡\n",
       "│ [\"grazie\", \"amico\"]             ┆ [\"thank\", \"buddy\"]              │\n",
       "│ [\"di il\"]                       ┆ [\"say\"]                         │\n",
       "│ [\"trifosfare\", \"sodio\", … \"sod… ┆ [\"sodium\", \"triphosphate\", … \"… │\n",
       "│ [\"invero\", \"avidare\", … \"ricch… ┆ [\"surely\", \"ardent\", … \"wealth… │\n",
       "│ [\"allegare\"]                    ┆ [\"annex\"]                       │\n",
       "└─────────────────────────────────┴─────────────────────────────────┘"
      ]
     },
     "execution_count": 4,
     "metadata": {},
     "output_type": "execute_result"
    }
   ],
   "source": [
    "# Load parquet file\n",
    "local_path = \"../data/output/processed.parquet\"\n",
    "colab_path = \"../content/processed.parquet\"\n",
    "kaggle_path= \"/kaggle/input/it-en-translation/processed.parquet\"\n",
    "loaded_data = pl.read_parquet(kaggle_path)\n",
    "print(\"Data loaded successfully\")\n",
    "loaded_data.head()"
   ]
  },
  {
   "cell_type": "code",
   "execution_count": 5,
   "id": "31a370ea",
   "metadata": {
    "execution": {
     "iopub.execute_input": "2024-12-18T09:22:29.733824Z",
     "iopub.status.busy": "2024-12-18T09:22:29.732988Z",
     "iopub.status.idle": "2024-12-18T09:22:30.059910Z",
     "shell.execute_reply": "2024-12-18T09:22:30.058932Z"
    },
    "papermill": {
     "duration": 0.336584,
     "end_time": "2024-12-18T09:22:30.061879",
     "exception": false,
     "start_time": "2024-12-18T09:22:29.725295",
     "status": "completed"
    },
    "tags": []
   },
   "outputs": [],
   "source": [
    "input_data = loaded_data.sample(fraction = FRAC)"
   ]
  },
  {
   "cell_type": "code",
   "execution_count": 6,
   "id": "d3b38d4a",
   "metadata": {
    "execution": {
     "iopub.execute_input": "2024-12-18T09:22:30.070711Z",
     "iopub.status.busy": "2024-12-18T09:22:30.069882Z",
     "iopub.status.idle": "2024-12-18T09:22:30.098167Z",
     "shell.execute_reply": "2024-12-18T09:22:30.097366Z"
    },
    "papermill": {
     "duration": 0.034121,
     "end_time": "2024-12-18T09:22:30.099831",
     "exception": false,
     "start_time": "2024-12-18T09:22:30.065710",
     "status": "completed"
    },
    "tags": []
   },
   "outputs": [
    {
     "data": {
      "text/html": [
       "<div><style>\n",
       ".dataframe > thead > tr,\n",
       ".dataframe > tbody > tr {\n",
       "  text-align: right;\n",
       "  white-space: pre-wrap;\n",
       "}\n",
       "</style>\n",
       "<small>shape: (9, 3)</small><table border=\"1\" class=\"dataframe\"><thead><tr><th>statistic</th><th>it</th><th>en</th></tr><tr><td>str</td><td>f64</td><td>f64</td></tr></thead><tbody><tr><td>&quot;count&quot;</td><td>192008.0</td><td>192008.0</td></tr><tr><td>&quot;null_count&quot;</td><td>0.0</td><td>0.0</td></tr><tr><td>&quot;mean&quot;</td><td>null</td><td>null</td></tr><tr><td>&quot;std&quot;</td><td>null</td><td>null</td></tr><tr><td>&quot;min&quot;</td><td>null</td><td>null</td></tr><tr><td>&quot;25%&quot;</td><td>null</td><td>null</td></tr><tr><td>&quot;50%&quot;</td><td>null</td><td>null</td></tr><tr><td>&quot;75%&quot;</td><td>null</td><td>null</td></tr><tr><td>&quot;max&quot;</td><td>null</td><td>null</td></tr></tbody></table></div>"
      ],
      "text/plain": [
       "shape: (9, 3)\n",
       "┌────────────┬──────────┬──────────┐\n",
       "│ statistic  ┆ it       ┆ en       │\n",
       "│ ---        ┆ ---      ┆ ---      │\n",
       "│ str        ┆ f64      ┆ f64      │\n",
       "╞════════════╪══════════╪══════════╡\n",
       "│ count      ┆ 192008.0 ┆ 192008.0 │\n",
       "│ null_count ┆ 0.0      ┆ 0.0      │\n",
       "│ mean       ┆ null     ┆ null     │\n",
       "│ std        ┆ null     ┆ null     │\n",
       "│ min        ┆ null     ┆ null     │\n",
       "│ 25%        ┆ null     ┆ null     │\n",
       "│ 50%        ┆ null     ┆ null     │\n",
       "│ 75%        ┆ null     ┆ null     │\n",
       "│ max        ┆ null     ┆ null     │\n",
       "└────────────┴──────────┴──────────┘"
      ]
     },
     "execution_count": 6,
     "metadata": {},
     "output_type": "execute_result"
    }
   ],
   "source": [
    "input_data.describe()"
   ]
  },
  {
   "cell_type": "code",
   "execution_count": 7,
   "id": "15382469",
   "metadata": {
    "execution": {
     "iopub.execute_input": "2024-12-18T09:22:30.108087Z",
     "iopub.status.busy": "2024-12-18T09:22:30.107839Z",
     "iopub.status.idle": "2024-12-18T09:22:30.113721Z",
     "shell.execute_reply": "2024-12-18T09:22:30.113051Z"
    },
    "papermill": {
     "duration": 0.01174,
     "end_time": "2024-12-18T09:22:30.115171",
     "exception": false,
     "start_time": "2024-12-18T09:22:30.103431",
     "status": "completed"
    },
    "tags": []
   },
   "outputs": [],
   "source": [
    "from collections import defaultdict\n",
    "\n",
    "def build_vocab(tokens):\n",
    "    vocab = defaultdict(lambda: len(vocab))  # Assign unique indices\n",
    "    vocab[\"<pad>\"]  # Reserve 0 for padding\n",
    "    for token_list in tokens:\n",
    "        for token in token_list:\n",
    "            _ = vocab[token]\n",
    "    return dict(vocab)\n",
    "\n",
    "def preprocess_data(df):\n",
    "    it_vocab = build_vocab(df[\"it\"])\n",
    "    en_vocab = build_vocab(df[\"en\"])\n",
    "    \n",
    "    it_indices = [\n",
    "        torch.tensor([it_vocab[token] for token in tokens], dtype=torch.long)\n",
    "        for tokens in df[\"it\"]\n",
    "    ]\n",
    "    en_indices = [\n",
    "        torch.tensor([en_vocab[token] for token in tokens], dtype=torch.long)\n",
    "        for tokens in df[\"en\"]\n",
    "    ]\n",
    "    return list(zip(en_indices, it_indices)), len(it_vocab), len(en_vocab)"
   ]
  },
  {
   "cell_type": "code",
   "execution_count": 8,
   "id": "510b8052",
   "metadata": {
    "execution": {
     "iopub.execute_input": "2024-12-18T09:22:30.123277Z",
     "iopub.status.busy": "2024-12-18T09:22:30.123034Z",
     "iopub.status.idle": "2024-12-18T09:22:38.091112Z",
     "shell.execute_reply": "2024-12-18T09:22:38.090139Z"
    },
    "papermill": {
     "duration": 7.974459,
     "end_time": "2024-12-18T09:22:38.093239",
     "exception": false,
     "start_time": "2024-12-18T09:22:30.118780",
     "status": "completed"
    },
    "tags": []
   },
   "outputs": [],
   "source": [
    "data_pairs, IT_VOCAB_SIZE, EN_VOCAB_SIZE = preprocess_data(input_data)"
   ]
  },
  {
   "cell_type": "code",
   "execution_count": 9,
   "id": "a80edc62",
   "metadata": {
    "execution": {
     "iopub.execute_input": "2024-12-18T09:22:38.102214Z",
     "iopub.status.busy": "2024-12-18T09:22:38.101944Z",
     "iopub.status.idle": "2024-12-18T09:22:38.106477Z",
     "shell.execute_reply": "2024-12-18T09:22:38.105721Z"
    },
    "papermill": {
     "duration": 0.01089,
     "end_time": "2024-12-18T09:22:38.108221",
     "exception": false,
     "start_time": "2024-12-18T09:22:38.097331",
     "status": "completed"
    },
    "tags": []
   },
   "outputs": [
    {
     "name": "stdout",
     "output_type": "stream",
     "text": [
      "Italian Vocabulary Size: 78798\n",
      "English Vocabulary Size: 51957\n"
     ]
    }
   ],
   "source": [
    "print(f\"Italian Vocabulary Size: {IT_VOCAB_SIZE}\")\n",
    "print(f\"English Vocabulary Size: {EN_VOCAB_SIZE}\")"
   ]
  },
  {
   "cell_type": "code",
   "execution_count": 10,
   "id": "59eeac25",
   "metadata": {
    "execution": {
     "iopub.execute_input": "2024-12-18T09:22:38.116730Z",
     "iopub.status.busy": "2024-12-18T09:22:38.116478Z",
     "iopub.status.idle": "2024-12-18T09:22:38.120547Z",
     "shell.execute_reply": "2024-12-18T09:22:38.119826Z"
    },
    "papermill": {
     "duration": 0.010021,
     "end_time": "2024-12-18T09:22:38.122058",
     "exception": false,
     "start_time": "2024-12-18T09:22:38.112037",
     "status": "completed"
    },
    "tags": []
   },
   "outputs": [],
   "source": [
    "class TranslationDataset(Dataset):\n",
    "    def __init__(self, pairs):\n",
    "        self.pairs = pairs\n",
    "\n",
    "    def __len__(self):\n",
    "        return len(self.pairs)\n",
    "\n",
    "    def __getitem__(self, idx):\n",
    "        return self.pairs[idx]"
   ]
  },
  {
   "cell_type": "code",
   "execution_count": 11,
   "id": "b934833e",
   "metadata": {
    "execution": {
     "iopub.execute_input": "2024-12-18T09:22:38.130335Z",
     "iopub.status.busy": "2024-12-18T09:22:38.130112Z",
     "iopub.status.idle": "2024-12-18T09:22:38.134547Z",
     "shell.execute_reply": "2024-12-18T09:22:38.133861Z"
    },
    "papermill": {
     "duration": 0.010315,
     "end_time": "2024-12-18T09:22:38.136083",
     "exception": false,
     "start_time": "2024-12-18T09:22:38.125768",
     "status": "completed"
    },
    "tags": []
   },
   "outputs": [],
   "source": [
    "def collate_custom(batch):\n",
    "    src = [pair[0] for pair in batch]\n",
    "    trg = [pair[1] for pair in batch]\n",
    "    src_padded = nn.utils.rnn.pad_sequence(src, batch_first=True, padding_value=0)\n",
    "    trg_padded = nn.utils.rnn.pad_sequence(trg, batch_first=True, padding_value=0)\n",
    "    return src_padded, trg_padded"
   ]
  },
  {
   "cell_type": "code",
   "execution_count": 12,
   "id": "8b593fcd",
   "metadata": {
    "execution": {
     "iopub.execute_input": "2024-12-18T09:22:38.144295Z",
     "iopub.status.busy": "2024-12-18T09:22:38.144074Z",
     "iopub.status.idle": "2024-12-18T09:22:38.148261Z",
     "shell.execute_reply": "2024-12-18T09:22:38.147294Z"
    },
    "papermill": {
     "duration": 0.009983,
     "end_time": "2024-12-18T09:22:38.149795",
     "exception": false,
     "start_time": "2024-12-18T09:22:38.139812",
     "status": "completed"
    },
    "tags": []
   },
   "outputs": [],
   "source": [
    "train_loader = DataLoader(\n",
    "    TranslationDataset(data_pairs),\n",
    "    batch_size=BATCH_SIZE,\n",
    "    shuffle=True,\n",
    "    collate_fn=collate_custom\n",
    ")"
   ]
  },
  {
   "cell_type": "code",
   "execution_count": 13,
   "id": "f6aade86",
   "metadata": {
    "execution": {
     "iopub.execute_input": "2024-12-18T09:22:38.158176Z",
     "iopub.status.busy": "2024-12-18T09:22:38.157914Z",
     "iopub.status.idle": "2024-12-18T09:22:38.163009Z",
     "shell.execute_reply": "2024-12-18T09:22:38.162205Z"
    },
    "papermill": {
     "duration": 0.010981,
     "end_time": "2024-12-18T09:22:38.164460",
     "exception": false,
     "start_time": "2024-12-18T09:22:38.153479",
     "status": "completed"
    },
    "tags": []
   },
   "outputs": [],
   "source": [
    "class Encoder(nn.Module):\n",
    "    def __init__(self, input_dim, emb_dim, hid_dim, n_layers, dropout):\n",
    "        super().__init__()\n",
    "        self.embedding = nn.Embedding(input_dim, emb_dim)\n",
    "        self.rnn = nn.LSTM(emb_dim, hid_dim, n_layers, dropout=dropout, batch_first=True)\n",
    "        self.dropout = nn.Dropout(dropout)\n",
    "\n",
    "    def forward(self, src):\n",
    "        embedded = self.dropout(self.embedding(src))\n",
    "        outputs, (hidden, cell) = self.rnn(embedded)\n",
    "        return hidden, cell"
   ]
  },
  {
   "cell_type": "code",
   "execution_count": 14,
   "id": "22334499",
   "metadata": {
    "execution": {
     "iopub.execute_input": "2024-12-18T09:22:38.172956Z",
     "iopub.status.busy": "2024-12-18T09:22:38.172737Z",
     "iopub.status.idle": "2024-12-18T09:22:38.178060Z",
     "shell.execute_reply": "2024-12-18T09:22:38.177402Z"
    },
    "papermill": {
     "duration": 0.01131,
     "end_time": "2024-12-18T09:22:38.179572",
     "exception": false,
     "start_time": "2024-12-18T09:22:38.168262",
     "status": "completed"
    },
    "tags": []
   },
   "outputs": [],
   "source": [
    "class Decoder(nn.Module):\n",
    "    def __init__(self, output_dim, emb_dim, hid_dim, n_layers, dropout):\n",
    "        super().__init__()\n",
    "        self.embedding = nn.Embedding(output_dim, emb_dim)\n",
    "        self.rnn = nn.LSTM(emb_dim, hid_dim, n_layers, dropout=dropout, batch_first=True)\n",
    "        self.fc_out = nn.Linear(hid_dim, output_dim)\n",
    "        self.dropout = nn.Dropout(dropout)\n",
    "\n",
    "    def forward(self, trg, hidden, cell):\n",
    "        trg = trg.unsqueeze(1)\n",
    "        embedded = self.dropout(self.embedding(trg))\n",
    "        output, (hidden, cell) = self.rnn(embedded, (hidden, cell))\n",
    "        prediction = self.fc_out(output.squeeze(1))\n",
    "        return prediction, hidden, cell"
   ]
  },
  {
   "cell_type": "code",
   "execution_count": 15,
   "id": "2bddc894",
   "metadata": {
    "execution": {
     "iopub.execute_input": "2024-12-18T09:22:38.187906Z",
     "iopub.status.busy": "2024-12-18T09:22:38.187684Z",
     "iopub.status.idle": "2024-12-18T09:22:38.193370Z",
     "shell.execute_reply": "2024-12-18T09:22:38.192661Z"
    },
    "papermill": {
     "duration": 0.011584,
     "end_time": "2024-12-18T09:22:38.194863",
     "exception": false,
     "start_time": "2024-12-18T09:22:38.183279",
     "status": "completed"
    },
    "tags": []
   },
   "outputs": [],
   "source": [
    "class Seq2Seq(nn.Module):\n",
    "    def __init__(self, encoder, decoder, device):\n",
    "        super().__init__()\n",
    "        self.encoder = encoder\n",
    "        self.decoder = decoder\n",
    "        self.device = device\n",
    "\n",
    "    def forward(self, src, trg, teacher_forcing_ratio=0.5):\n",
    "        batch_size = src.size(0)\n",
    "        trg_len = trg.size(1)\n",
    "        trg_vocab_size = self.decoder.fc_out.out_features\n",
    "\n",
    "        outputs = torch.zeros(batch_size, trg_len, trg_vocab_size).to(self.device)\n",
    "\n",
    "        hidden, cell = self.encoder(src)\n",
    "\n",
    "        trg_input = trg[:, 0]\n",
    "        for t in range(1, trg_len):\n",
    "            output, hidden, cell = self.decoder(trg_input, hidden, cell)\n",
    "            outputs[:, t, :] = output\n",
    "            top1 = output.argmax(1)\n",
    "            trg_input = trg[:, t] if torch.rand(1).item() < teacher_forcing_ratio else top1\n",
    "\n",
    "        return outputs"
   ]
  },
  {
   "cell_type": "code",
   "execution_count": 16,
   "id": "60b16b8e",
   "metadata": {
    "execution": {
     "iopub.execute_input": "2024-12-18T09:22:38.203210Z",
     "iopub.status.busy": "2024-12-18T09:22:38.202993Z",
     "iopub.status.idle": "2024-12-18T09:22:38.878162Z",
     "shell.execute_reply": "2024-12-18T09:22:38.877454Z"
    },
    "papermill": {
     "duration": 0.681608,
     "end_time": "2024-12-18T09:22:38.880237",
     "exception": false,
     "start_time": "2024-12-18T09:22:38.198629",
     "status": "completed"
    },
    "tags": []
   },
   "outputs": [],
   "source": [
    "encoder = Encoder(EN_VOCAB_SIZE, EMB_DIM, HID_DIM, N_LAYERS, DROPOUT)\n",
    "decoder = Decoder(IT_VOCAB_SIZE, EMB_DIM, HID_DIM, N_LAYERS, DROPOUT)\n",
    "model = Seq2Seq(encoder, decoder, device).to(device)"
   ]
  },
  {
   "cell_type": "code",
   "execution_count": 17,
   "id": "2bdcba09",
   "metadata": {
    "execution": {
     "iopub.execute_input": "2024-12-18T09:22:38.889478Z",
     "iopub.status.busy": "2024-12-18T09:22:38.889215Z",
     "iopub.status.idle": "2024-12-18T09:22:40.156236Z",
     "shell.execute_reply": "2024-12-18T09:22:40.155388Z"
    },
    "papermill": {
     "duration": 1.273661,
     "end_time": "2024-12-18T09:22:40.158237",
     "exception": false,
     "start_time": "2024-12-18T09:22:38.884576",
     "status": "completed"
    },
    "tags": []
   },
   "outputs": [],
   "source": [
    "criterion = nn.CrossEntropyLoss(ignore_index=0)\n",
    "optimizer = optim.Adam(model.parameters(), lr=LEARNING_RATE)"
   ]
  },
  {
   "cell_type": "code",
   "execution_count": 18,
   "id": "5cda5096",
   "metadata": {
    "execution": {
     "iopub.execute_input": "2024-12-18T09:22:40.167781Z",
     "iopub.status.busy": "2024-12-18T09:22:40.167227Z",
     "iopub.status.idle": "2024-12-18T09:22:40.172927Z",
     "shell.execute_reply": "2024-12-18T09:22:40.172122Z"
    },
    "papermill": {
     "duration": 0.011993,
     "end_time": "2024-12-18T09:22:40.174415",
     "exception": false,
     "start_time": "2024-12-18T09:22:40.162422",
     "status": "completed"
    },
    "tags": []
   },
   "outputs": [],
   "source": [
    "def train(model, iterator, optimizer, criterion):\n",
    "    model.train()\n",
    "    epoch_loss = 0\n",
    "\n",
    "    for src, trg in iterator:\n",
    "        src, trg = src.to(device), trg.to(device)\n",
    "        optimizer.zero_grad()\n",
    "\n",
    "        output = model(src, trg)\n",
    "        output_dim = output.shape[-1]\n",
    "\n",
    "        output = output[:, 1:].reshape(-1, output_dim)\n",
    "        trg = trg[:, 1:].reshape(-1)\n",
    "\n",
    "        loss = criterion(output, trg)\n",
    "        loss.backward()\n",
    "        optimizer.step()\n",
    "\n",
    "        epoch_loss += loss.item()\n",
    "\n",
    "    return epoch_loss / len(iterator)"
   ]
  },
  {
   "cell_type": "code",
   "execution_count": 19,
   "id": "98267468",
   "metadata": {
    "execution": {
     "iopub.execute_input": "2024-12-18T09:22:40.183658Z",
     "iopub.status.busy": "2024-12-18T09:22:40.183173Z",
     "iopub.status.idle": "2024-12-18T09:22:40.188114Z",
     "shell.execute_reply": "2024-12-18T09:22:40.187438Z"
    },
    "papermill": {
     "duration": 0.01127,
     "end_time": "2024-12-18T09:22:40.189710",
     "exception": false,
     "start_time": "2024-12-18T09:22:40.178440",
     "status": "completed"
    },
    "tags": []
   },
   "outputs": [],
   "source": [
    "def evaluate(model, iterator, criterion):\n",
    "    model.eval()\n",
    "    epoch_loss = 0\n",
    "\n",
    "    with torch.no_grad():\n",
    "        for src, trg in iterator:\n",
    "            src, trg = src.to(device), trg.to(device)\n",
    "\n",
    "            output = model(src, trg, 0)  # Turn off teacher forcing\n",
    "            output_dim = output.shape[-1]\n",
    "\n",
    "            output = output[:, 1:].reshape(-1, output_dim)\n",
    "            trg = trg[:, 1:].reshape(-1)\n",
    "\n",
    "            loss = criterion(output, trg)\n",
    "            epoch_loss += loss.item()\n",
    "\n",
    "    return epoch_loss / len(iterator)\n"
   ]
  },
  {
   "cell_type": "code",
   "execution_count": 20,
   "id": "66ce9ceb",
   "metadata": {
    "execution": {
     "iopub.execute_input": "2024-12-18T09:22:40.198513Z",
     "iopub.status.busy": "2024-12-18T09:22:40.198241Z",
     "iopub.status.idle": "2024-12-18T15:43:47.780066Z",
     "shell.execute_reply": "2024-12-18T15:43:47.779027Z"
    },
    "papermill": {
     "duration": 22867.592387,
     "end_time": "2024-12-18T15:43:47.785998",
     "exception": false,
     "start_time": "2024-12-18T09:22:40.193611",
     "status": "completed"
    },
    "tags": []
   },
   "outputs": [
    {
     "name": "stdout",
     "output_type": "stream",
     "text": [
      "Epoch 1/10 - Train Loss: 8.3591 | Eval Loss: 7.9735\n",
      "Epoch 2/10 - Train Loss: 7.8451 | Eval Loss: 7.5706\n",
      "Epoch 3/10 - Train Loss: 7.5095 | Eval Loss: 7.2363\n",
      "Epoch 4/10 - Train Loss: 7.2226 | Eval Loss: 6.9186\n",
      "Epoch 5/10 - Train Loss: 6.9687 | Eval Loss: 6.6239\n",
      "Epoch 6/10 - Train Loss: 6.7359 | Eval Loss: 6.3591\n",
      "Epoch 7/10 - Train Loss: 6.5165 | Eval Loss: 6.1024\n",
      "Epoch 8/10 - Train Loss: 6.3107 | Eval Loss: 5.8641\n",
      "Epoch 9/10 - Train Loss: 6.1169 | Eval Loss: 5.6337\n",
      "Epoch 10/10 - Train Loss: 5.9416 | Eval Loss: 5.4451\n"
     ]
    }
   ],
   "source": [
    "train_losses, eval_losses = [], []\n",
    "\n",
    "for epoch in range(EPOCHS):\n",
    "    train_loss = train(model, train_loader, optimizer, criterion)\n",
    "    eval_loss = evaluate(model, train_loader, criterion)\n",
    "\n",
    "    train_losses.append(train_loss)\n",
    "    eval_losses.append(eval_loss)\n",
    "\n",
    "    print(f\"Epoch {epoch + 1}/{EPOCHS} - Train Loss: {train_loss:.4f} | Eval Loss: {eval_loss:.4f}\")\n"
   ]
  },
  {
   "cell_type": "code",
   "execution_count": 21,
   "id": "aca84636",
   "metadata": {
    "execution": {
     "iopub.execute_input": "2024-12-18T15:43:47.796787Z",
     "iopub.status.busy": "2024-12-18T15:43:47.795980Z",
     "iopub.status.idle": "2024-12-18T15:43:48.063165Z",
     "shell.execute_reply": "2024-12-18T15:43:48.062366Z"
    },
    "papermill": {
     "duration": 0.274354,
     "end_time": "2024-12-18T15:43:48.064903",
     "exception": false,
     "start_time": "2024-12-18T15:43:47.790549",
     "status": "completed"
    },
    "tags": []
   },
   "outputs": [
    {
     "data": {
      "image/png": "[encoded data removed]",
      "text/plain": [
       "<Figure size 640x480 with 1 Axes>"
      ]
     },
     "metadata": {},
     "output_type": "display_data"
    }
   ],
   "source": [
    "plt.plot(range(1, EPOCHS + 1), train_losses, label=\"Train Loss\")\n",
    "plt.plot(range(1, EPOCHS + 1), eval_losses, label=\"Eval Loss\")\n",
    "plt.xlabel(\"Epoch\")\n",
    "plt.ylabel(\"Loss\")\n",
    "plt.legend()\n",
    "plt.title(\"Training and Evaluation Loss\")\n",
    "plt.show()\n"
   ]
  },
  {
   "cell_type": "code",
   "execution_count": 22,
   "id": "38316483",
   "metadata": {
    "execution": {
     "iopub.execute_input": "2024-12-18T15:43:48.076163Z",
     "iopub.status.busy": "2024-12-18T15:43:48.075910Z",
     "iopub.status.idle": "2024-12-18T15:43:48.370890Z",
     "shell.execute_reply": "2024-12-18T15:43:48.369931Z"
    },
    "papermill": {
     "duration": 0.302972,
     "end_time": "2024-12-18T15:43:48.372981",
     "exception": false,
     "start_time": "2024-12-18T15:43:48.070009",
     "status": "completed"
    },
    "tags": []
   },
   "outputs": [],
   "source": [
    "torch.save(model.state_dict(), \"/kaggle/working/seq2seq_translation_model.pth\")"
   ]
  }
 ],
 "metadata": {
  "kaggle": {
   "accelerator": "gpu",
   "dataSources": [
    {
     "datasetId": 6321785,
     "sourceId": 10225541,
     "sourceType": "datasetVersion"
    }
   ],
   "dockerImageVersionId": 30805,
   "isGpuEnabled": true,
   "isInternetEnabled": true,
   "language": "python",
   "sourceType": "notebook"
  },
  "kernelspec": {
   "display_name": "Python 3",
   "language": "python",
   "name": "python3"
  },
  "language_info": {
   "codemirror_mode": {
    "name": "ipython",
    "version": 3
   },
   "file_extension": ".py",
   "mimetype": "text/x-python",
   "name": "python",
   "nbconvert_exporter": "python",
   "pygments_lexer": "ipython3",
   "version": "3.10.14"
  },
  "papermill": {
   "default_parameters": {},
   "duration": 22888.060544,
   "end_time": "2024-12-18T15:43:50.200475",
   "environment_variables": {},
   "exception": null,
   "input_path": "__notebook__.ipynb",
   "output_path": "__notebook__.ipynb",
   "parameters": {},
   "start_time": "2024-12-18T09:22:22.139931",
   "version": "2.6.0"
  }
 },
 "nbformat": 4,
 "nbformat_minor": 5
}
