{
 "cells": [
  {
   "cell_type": "markdown",
   "metadata": {},
   "source": [
    "# Seq2Seq Translator\n",
    "\n",
    "In the previous notebook, I underwent the task of preprocessing the data. Namely for Italian-English translation.\n",
    "\n",
    "I ought to do the same for French.. though I am not currently keen on spending another $82$ mins to lemmatise all $900k$ lines of French-English.\n",
    "\n",
    "In this notebook, I will be building a Seq2Seq Architecture for Machine Translation; said architecture will undergo the same cycle as all models usually do. From training, evaluating, validating to testing."
   ]
  }
 ],
 "metadata": {
  "kernelspec": {
   "display_name": "venv_nlp",
   "language": "python",
   "name": "python3"
  },
  "language_info": {
   "name": "python",
   "version": "3.12.2"
  }
 },
 "nbformat": 4,
 "nbformat_minor": 2
}
