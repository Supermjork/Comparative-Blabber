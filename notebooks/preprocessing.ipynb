{
 "cells": [
  {
   "cell_type": "markdown",
   "metadata": {},
   "source": [
    "# Preprocessing\n",
    "\n",
    "After having done $2$ assignments, I have deemed it fit to factor out preprocessing into its own notebook, instead of having it attached to the first model so as to not hinder its execution or add overhead.\n",
    "\n",
    "The data required to be used by the models shall be stored under `<arbitrary path>`."
   ]
  },
  {
   "cell_type": "markdown",
   "metadata": {},
   "source": [
    "## Data Loading\n",
    "\n",
    "Loading the `.parquet` files for training. I am unsure which language to try first.."
   ]
  },
  {
   "cell_type": "code",
   "execution_count": 1,
   "metadata": {},
   "outputs": [],
   "source": [
    "import os\n",
    "import polars as pl"
   ]
  },
  {
   "cell_type": "code",
   "execution_count": 2,
   "metadata": {},
   "outputs": [],
   "source": [
    "# Select which language\n",
    "# we want to train for\n",
    "lang = 'italian'\n",
    "\n",
    "# Prepare the path\n",
    "training_data_path = os.path.join('..', 'data', 'input_lang', lang, 'training.parquet')"
   ]
  },
  {
   "cell_type": "code",
   "execution_count": 3,
   "metadata": {},
   "outputs": [
    {
     "data": {
      "text/html": [
       "<div><style>\n",
       ".dataframe > thead > tr,\n",
       ".dataframe > tbody > tr {\n",
       "  text-align: right;\n",
       "  white-space: pre-wrap;\n",
       "}\n",
       "</style>\n",
       "<small>shape: (5, 1)</small><table border=\"1\" class=\"dataframe\"><thead><tr><th>text</th></tr><tr><td>str</td></tr></thead><tbody><tr><td>&quot;- Grazie, amico. ###&gt;- Thanks,…</td></tr><tr><td>&quot;Dillo. ###&gt;Say it.&quot;</td></tr><tr><td>&quot;Trifosfato di sodio (tripolifo…</td></tr><tr><td>&quot;Invero è avido per amore delle…</td></tr><tr><td>&quot;ALLEGATO I ###&gt;ANNEX I&quot;</td></tr></tbody></table></div>"
      ],
      "text/plain": [
       "shape: (5, 1)\n",
       "┌─────────────────────────────────┐\n",
       "│ text                            │\n",
       "│ ---                             │\n",
       "│ str                             │\n",
       "╞═════════════════════════════════╡\n",
       "│ - Grazie, amico. ###>- Thanks,… │\n",
       "│ Dillo. ###>Say it.              │\n",
       "│ Trifosfato di sodio (tripolifo… │\n",
       "│ Invero è avido per amore delle… │\n",
       "│ ALLEGATO I ###>ANNEX I          │\n",
       "└─────────────────────────────────┘"
      ]
     },
     "execution_count": 3,
     "metadata": {},
     "output_type": "execute_result"
    }
   ],
   "source": [
    "raw_parquet_data = pl.read_parquet(training_data_path)\n",
    "\n",
    "raw_parquet_data.head()"
   ]
  },
  {
   "cell_type": "code",
   "execution_count": 4,
   "metadata": {},
   "outputs": [
    {
     "data": {
      "text/html": [
       "<div><style>\n",
       ".dataframe > thead > tr,\n",
       ".dataframe > tbody > tr {\n",
       "  text-align: right;\n",
       "  white-space: pre-wrap;\n",
       "}\n",
       "</style>\n",
       "<small>shape: (5, 2)</small><table border=\"1\" class=\"dataframe\"><thead><tr><th>italian</th><th>english</th></tr><tr><td>str</td><td>str</td></tr></thead><tbody><tr><td>&quot;- Grazie, amico.&quot;</td><td>&quot;- Thanks, buddy.&quot;</td></tr><tr><td>&quot;Dillo.&quot;</td><td>&quot;Say it.&quot;</td></tr><tr><td>&quot;Trifosfato di sodio (tripolifo…</td><td>&quot;Sodium triphosphate (sodium tr…</td></tr><tr><td>&quot;Invero è avido per amore delle…</td><td>&quot;Surely, he is ardent in his lo…</td></tr><tr><td>&quot;ALLEGATO I&quot;</td><td>&quot;ANNEX I&quot;</td></tr></tbody></table></div>"
      ],
      "text/plain": [
       "shape: (5, 2)\n",
       "┌─────────────────────────────────┬─────────────────────────────────┐\n",
       "│ italian                         ┆ english                         │\n",
       "│ ---                             ┆ ---                             │\n",
       "│ str                             ┆ str                             │\n",
       "╞═════════════════════════════════╪═════════════════════════════════╡\n",
       "│ - Grazie, amico.                ┆ - Thanks, buddy.                │\n",
       "│ Dillo.                          ┆ Say it.                         │\n",
       "│ Trifosfato di sodio (tripolifo… ┆ Sodium triphosphate (sodium tr… │\n",
       "│ Invero è avido per amore delle… ┆ Surely, he is ardent in his lo… │\n",
       "│ ALLEGATO I                      ┆ ANNEX I                         │\n",
       "└─────────────────────────────────┴─────────────────────────────────┘"
      ]
     },
     "execution_count": 4,
     "metadata": {},
     "output_type": "execute_result"
    }
   ],
   "source": [
    "split_data = raw_parquet_data.select(\n",
    "    raw_parquet_data[\"text\"]\n",
    "    .str.split(\" ###>\")\n",
    "    .list.to_struct(n_field_strategy = \"max_width\",\n",
    "                    fields = [lang, \"english\"])\n",
    "    .alias(\"splitten\")\n",
    ").unnest(\"splitten\")\n",
    "\n",
    "split_data.head()"
   ]
  }
 ],
 "metadata": {
  "kernelspec": {
   "display_name": "venv_nlp",
   "language": "python",
   "name": "python3"
  },
  "language_info": {
   "codemirror_mode": {
    "name": "ipython",
    "version": 3
   },
   "file_extension": ".py",
   "mimetype": "text/x-python",
   "name": "python",
   "nbconvert_exporter": "python",
   "pygments_lexer": "ipython3",
   "version": "3.12.2"
  }
 },
 "nbformat": 4,
 "nbformat_minor": 2
}
